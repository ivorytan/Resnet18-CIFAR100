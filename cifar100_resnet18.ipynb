{
 "cells": [
  {
   "cell_type": "markdown",
   "metadata": {
    "id": "IhcgBundQpt3"
   },
   "source": [
    "**第零部分：库导入**"
   ]
  },
  {
   "cell_type": "code",
   "execution_count": 1,
   "metadata": {
    "id": "0w1ybN_vQnF2"
   },
   "outputs": [],
   "source": [
    "import argparse\n",
    "import numpy as np\n",
    "from tqdm import tqdm\n",
    "\n",
    "import torch\n",
    "import torch.nn as nn\n",
    "import torch.nn.functional as F\n",
    "from torch.autograd import Variable\n",
    "import torch.backends.cudnn as cudnn\n",
    "from torch.optim.lr_scheduler import MultiStepLR\n",
    "from torch.utils.tensorboard import SummaryWriter\n",
    "\n",
    "from torchvision.utils import make_grid\n",
    "from torchvision import datasets, transforms\n",
    "\n",
    "import csv\n",
    "import os\n"
   ]
  },
  {
   "cell_type": "markdown",
   "metadata": {
    "id": "os7Gg9GnR3-B"
   },
   "source": [
    "**第一部分：resnet代码**"
   ]
  },
  {
   "cell_type": "code",
   "execution_count": 2,
   "metadata": {
    "id": "kOKibVLjRsZO"
   },
   "outputs": [],
   "source": [
    "'''ResNet18/34/50/101/152 in Pytorch.'''\n",
    "\n",
    "def conv3x3(in_planes, out_planes, stride=1):\n",
    "    return nn.Conv2d(in_planes, out_planes, kernel_size=3, stride=stride, padding=1, bias=False)\n",
    "\n",
    "\n",
    "class BasicBlock(nn.Module):\n",
    "    expansion = 1\n",
    "\n",
    "    def __init__(self, in_planes, planes, stride=1):\n",
    "        super(BasicBlock, self).__init__()\n",
    "        self.conv1 = conv3x3(in_planes, planes, stride)\n",
    "        self.bn1 = nn.BatchNorm2d(planes)\n",
    "        self.conv2 = conv3x3(planes, planes)\n",
    "        self.bn2 = nn.BatchNorm2d(planes)\n",
    "\n",
    "        self.shortcut = nn.Sequential()\n",
    "        if stride != 1 or in_planes != self.expansion*planes:\n",
    "            self.shortcut = nn.Sequential(\n",
    "                nn.Conv2d(in_planes, self.expansion*planes, kernel_size=1, stride=stride, bias=False),\n",
    "                nn.BatchNorm2d(self.expansion*planes)\n",
    "            )\n",
    "\n",
    "    def forward(self, x):\n",
    "        out = F.relu(self.bn1(self.conv1(x)))\n",
    "        out = self.bn2(self.conv2(out))\n",
    "        out += self.shortcut(x)\n",
    "        out = F.relu(out)\n",
    "        return out\n",
    "\n",
    "\n",
    "class Bottleneck(nn.Module):\n",
    "    expansion = 4\n",
    "\n",
    "    def __init__(self, in_planes, planes, stride=1):\n",
    "        super(Bottleneck, self).__init__()\n",
    "        self.conv1 = nn.Conv2d(in_planes, planes, kernel_size=1, bias=False)\n",
    "        self.bn1 = nn.BatchNorm2d(planes)\n",
    "        self.conv2 = nn.Conv2d(planes, planes, kernel_size=3, stride=stride, padding=1, bias=False)\n",
    "        self.bn2 = nn.BatchNorm2d(planes)\n",
    "        self.conv3 = nn.Conv2d(planes, self.expansion*planes, kernel_size=1, bias=False)\n",
    "        self.bn3 = nn.BatchNorm2d(self.expansion*planes)\n",
    "\n",
    "        self.shortcut = nn.Sequential()\n",
    "        if stride != 1 or in_planes != self.expansion*planes:\n",
    "            self.shortcut = nn.Sequential(\n",
    "                nn.Conv2d(in_planes, self.expansion*planes, kernel_size=1, stride=stride, bias=False),\n",
    "                nn.BatchNorm2d(self.expansion*planes)\n",
    "            )\n",
    "\n",
    "    def forward(self, x):\n",
    "        out = F.relu(self.bn1(self.conv1(x)))\n",
    "        out = F.relu(self.bn2(self.conv2(out)))\n",
    "        out = self.bn3(self.conv3(out))\n",
    "        out += self.shortcut(x)\n",
    "        out = F.relu(out)\n",
    "        return out\n",
    "\n",
    "\n",
    "class ResNet(nn.Module):\n",
    "    def __init__(self, block, num_blocks, num_classes=10):\n",
    "        super(ResNet, self).__init__()\n",
    "        self.in_planes = 64\n",
    "\n",
    "        self.conv1 = conv3x3(3,64)\n",
    "        self.bn1 = nn.BatchNorm2d(64)\n",
    "        self.layer1 = self._make_layer(block, 64, num_blocks[0], stride=1)\n",
    "        self.layer2 = self._make_layer(block, 128, num_blocks[1], stride=2)\n",
    "        self.layer3 = self._make_layer(block, 256, num_blocks[2], stride=2)\n",
    "        self.layer4 = self._make_layer(block, 512, num_blocks[3], stride=2)\n",
    "        self.linear = nn.Linear(512*block.expansion, num_classes)\n",
    "\n",
    "    def _make_layer(self, block, planes, num_blocks, stride):\n",
    "        strides = [stride] + [1]*(num_blocks-1)\n",
    "        layers = []\n",
    "        for stride in strides:\n",
    "            layers.append(block(self.in_planes, planes, stride))\n",
    "            self.in_planes = planes * block.expansion\n",
    "        return nn.Sequential(*layers)\n",
    "\n",
    "    def forward(self, x):\n",
    "        out = F.relu(self.bn1(self.conv1(x)))\n",
    "        out = self.layer1(out)\n",
    "        out = self.layer2(out)\n",
    "        out = self.layer3(out)\n",
    "        out = self.layer4(out)\n",
    "        out = F.avg_pool2d(out, 4)\n",
    "        out = out.view(out.size(0), -1)\n",
    "        out = self.linear(out)\n",
    "        return out\n",
    "\n",
    "\n",
    "def ResNet18(num_classes=10):\n",
    "    return ResNet(BasicBlock, [2,2,2,2], num_classes)\n",
    "\n",
    "def ResNet34(num_classes=10):\n",
    "    return ResNet(BasicBlock, [3,4,6,3], num_classes)\n",
    "\n",
    "def ResNet50(num_classes=10):\n",
    "    return ResNet(Bottleneck, [3,4,6,3], num_classes)\n",
    "\n",
    "def ResNet101(num_classes=10):\n",
    "    return ResNet(Bottleneck, [3,4,23,3], num_classes)\n",
    "\n",
    "def ResNet152(num_classes=10):\n",
    "    return ResNet(Bottleneck, [3,8,36,3], num_classes)\n",
    "\n",
    "def test_resnet():\n",
    "    net = ResNet50()\n",
    "    y = net(Variable(torch.randn(1,3,32,32)))\n",
    "    print(y.size())"
   ]
  },
  {
   "cell_type": "markdown",
   "metadata": {
    "id": "hG8JM6AJSLiF"
   },
   "source": [
    "**第二部分：utils使用工具**"
   ]
  },
  {
   "cell_type": "markdown",
   "metadata": {
    "id": "LCOZWB_mU88B"
   },
   "source": [
    "write_csv定义"
   ]
  },
  {
   "cell_type": "code",
   "execution_count": 3,
   "metadata": {
    "id": "5feyJ5EvU2J7"
   },
   "outputs": [],
   "source": [
    "class CSVLogger:\n",
    "    def __init__(self, args, fieldnames, filename='log.csv'):\n",
    "        self.filename = filename\n",
    "        self.csv_file = open(filename, 'a')\n",
    "        writer = csv.writer(self.csv_file)\n",
    "        if not os.path.exists(filename):\n",
    "          # Write model configuration at top of csv\n",
    "          for arg in vars(args):\n",
    "            writer.writerow([arg, args[arg]])\n",
    "        writer.writerow([''])\n",
    "\n",
    "        self.writer = csv.DictWriter(self.csv_file, fieldnames=fieldnames)\n",
    "        self.writer.writeheader()\n",
    "\n",
    "        self.csv_file.flush()\n",
    "\n",
    "    def writerow(self, row):\n",
    "        self.writer.writerow(row)\n",
    "        self.csv_file.flush()\n",
    "\n",
    "    def close(self):\n",
    "        self.csv_file.close()"
   ]
  },
  {
   "cell_type": "markdown",
   "metadata": {
    "id": "MpeUxlyXVfc-"
   },
   "source": [
    "cutmix处理"
   ]
  },
  {
   "cell_type": "code",
   "execution_count": 4,
   "metadata": {
    "id": "CJjKN4lwZ4Xr"
   },
   "outputs": [],
   "source": [
    "def rand_bbox(size, lam):\n",
    "    W = size[2]\n",
    "    H = size[3]\n",
    "    cut_rat = np.sqrt(1. - lam)\n",
    "    cut_w = np.int(W * cut_rat)\n",
    "    cut_h = np.int(H * cut_rat)\n",
    "\n",
    "    # uniform\n",
    "    cx = np.random.randint(W)\n",
    "    cy = np.random.randint(H)\n",
    "\n",
    "    bbx1 = np.clip(cx - cut_w // 2, 0, W)\n",
    "    bby1 = np.clip(cy - cut_h // 2, 0, H)\n",
    "    bbx2 = np.clip(cx + cut_w // 2, 0, W)\n",
    "    bby2 = np.clip(cy + cut_h // 2, 0, H)\n",
    "\n",
    "    return bbx1, bby1, bbx2, bby2\n"
   ]
  },
  {
   "cell_type": "markdown",
   "metadata": {
    "id": "xg5y1bEZZ7SZ"
   },
   "source": [
    "cutout处理"
   ]
  },
  {
   "cell_type": "code",
   "execution_count": 5,
   "metadata": {
    "id": "cV1YzG_JaAkp"
   },
   "outputs": [],
   "source": [
    "class Cutout(object):\n",
    "    def __init__(self, n_holes, length):\n",
    "        self.n_holes = n_holes\n",
    "        self.length = length\n",
    "\n",
    "    def __call__(self, img):\n",
    "        h = img.size(1)\n",
    "        w = img.size(2)\n",
    "        mask = np.ones((h, w), np.float32)\n",
    "        for n in range(self.n_holes):\n",
    "            y = np.random.randint(h)\n",
    "            x = np.random.randint(w)\n",
    "            y1 = np.clip(y - self.length // 2, 0, h)\n",
    "            y2 = np.clip(y + self.length // 2, 0, h)\n",
    "            x1 = np.clip(x - self.length // 2, 0, w)\n",
    "            x2 = np.clip(x + self.length // 2, 0, w)\n",
    "            mask[y1: y2, x1: x2] = 0.\n",
    "        mask = torch.from_numpy(mask)\n",
    "        mask = mask.expand_as(img)\n",
    "        img = img * mask\n",
    "\n",
    "        return img"
   ]
  },
  {
   "cell_type": "markdown",
   "metadata": {
    "id": "23mbfBhMabj1"
   },
   "source": [
    "mixup处理"
   ]
  },
  {
   "cell_type": "code",
   "execution_count": 6,
   "metadata": {
    "id": "0LUKnjpVafrQ"
   },
   "outputs": [],
   "source": [
    "def mixup_data(x, y, alpha=1.0, use_cuda=True):\n",
    "    '''Returns mixed inputs, pairs of targets, and lambda'''\n",
    "    if alpha > 0:\n",
    "        lam = np.random.beta(alpha, alpha)\n",
    "    else:\n",
    "        lam = 1\n",
    "\n",
    "    batch_size = x.size()[0]\n",
    "    if use_cuda:\n",
    "        index = torch.randperm(batch_size).cuda()\n",
    "    else:\n",
    "        index = torch.randperm(batch_size)\n",
    "\n",
    "    mixed_x = lam * x + (1 - lam) * x[index, :]\n",
    "    y_a, y_b = y, y[index]\n",
    "    return mixed_x, y_a, y_b, lam\n",
    "\n",
    "def mixup_criterion(criterion, pred, y_a, y_b, lam):\n",
    "    return lam * criterion(pred, y_a) + (1 - lam) * criterion(pred, y_b)"
   ]
  },
  {
   "cell_type": "markdown",
   "metadata": {
    "id": "ub4tylYKax5d"
   },
   "source": [
    "**第三部分：训练和测试函数定义**"
   ]
  },
  {
   "cell_type": "code",
   "execution_count": 7,
   "metadata": {
    "id": "SGcJFEJDa7fu"
   },
   "outputs": [],
   "source": [
    "def train_cutout(epoch):\n",
    "    print('\\nEpoch: %d' % epoch)\n",
    "    xentropy_loss_avg = 0.\n",
    "    correct = 0.\n",
    "    total = 0.\n",
    "\n",
    "    progress_bar = tqdm(train_loader)\n",
    "    for i, (images, labels) in enumerate(progress_bar):\n",
    "        progress_bar.set_description('Epoch ' + str(epoch))\n",
    "        \n",
    "        if args['cuda']:\n",
    "            images = images.cuda()\n",
    "            labels = labels.cuda()\n",
    "\n",
    "        model.zero_grad()\n",
    "        pred = model(images)\n",
    "\n",
    "        xentropy_loss = criterion(pred, labels)\n",
    "        xentropy_loss.backward()\n",
    "        optimizer.step()\n",
    "\n",
    "        xentropy_loss_avg += xentropy_loss.item()\n",
    "\n",
    "        # 计算训练过程中的准确率\n",
    "        pred = torch.max(pred.data, 1)[1]\n",
    "        total += labels.size(0)\n",
    "        correct += (pred == labels.data).sum().item()\n",
    "        accuracy = correct / total\n",
    "\n",
    "        # 打印训练过程中的loss和acc\n",
    "        progress_bar.set_postfix(xentropy='%.3f' % (xentropy_loss_avg / (i + 1)), acc='%.3f' % accuracy)\n",
    "\n",
    "    return (xentropy_loss_avg / (i + 1)), accuracy\n",
    "\n",
    "\n",
    "def train_mixup(epoch):\n",
    "    print('\\nEpoch: %d' % epoch)\n",
    "    model.train()\n",
    "    train_loss = 0\n",
    "    correct = 0\n",
    "    total = 0\n",
    "\n",
    "    progress_bar = tqdm(train_loader)\n",
    "    for batch_idx, (inputs, targets) in enumerate(progress_bar):\n",
    "        progress_bar.set_description('Epoch ' + str(epoch))\n",
    "        if args['cuda']:\n",
    "            inputs, targets = inputs.cuda(), targets.cuda()\n",
    "\n",
    "        # mixup数据处理\n",
    "        inputs, targets_a, targets_b, lam = mixup_data(inputs, targets, args['alpha'], args['cuda'])\n",
    "        inputs, targets_a, targets_b = map(Variable, (inputs, targets_a, targets_b))\n",
    "        model.zero_grad()\n",
    "        outputs = model(inputs)\n",
    "        loss = mixup_criterion(criterion, outputs, targets_a, targets_b, lam)\n",
    "\n",
    "        train_loss += loss.item()\n",
    "        _, predicted = torch.max(outputs.data, 1)\n",
    "        total += targets.size(0)\n",
    "        correct += (lam * predicted.eq(targets_a.data).cpu().sum().float() + (1 - lam) * predicted.eq(targets_b.data).cpu().sum().float())\n",
    "\n",
    "        optimizer.zero_grad()\n",
    "        loss.backward()\n",
    "        optimizer.step()\n",
    "\n",
    "        progress_bar.set_postfix(xentropy='%.3f' % (train_loss / (batch_idx + 1)), acc='%.3f' % (correct / total))\n",
    "\n",
    "    return (train_loss / (batch_idx + 1)), (correct / total).item() / 100\n",
    "\n",
    "\n",
    "def train_cutmix(epoch):\n",
    "    print('\\nEpoch: %d' % epoch)\n",
    "    model.train()\n",
    "    train_loss = 0\n",
    "    correct = 0\n",
    "    total = 0\n",
    "\n",
    "    progress_bar = tqdm(train_loader)\n",
    "    for batch_idx, (inputs, targets) in enumerate(progress_bar):\n",
    "        progress_bar.set_description('Epoch ' + str(epoch))\n",
    "        if args['cuda']:\n",
    "            inputs, targets = inputs.cuda(), targets.cuda()\n",
    "\n",
    "        r = np.random.rand(1)\n",
    "        if args['alpha'] > 0 and r < args['cutmix_prob']: # 使用cutmix的概率\n",
    "          # 生成mix的样本\n",
    "            lam = np.random.beta(args['alpha'], args['alpha'])\n",
    "            if args['cuda']:\n",
    "                rand_index = torch.randperm(inputs.size()[0]).cuda()\n",
    "            else:\n",
    "                rand_index = torch.randperm(inputs.size()[0])\n",
    "            target_a = targets\n",
    "            target_b = targets[rand_index]\n",
    "            bbx1, bby1, bbx2, bby2 = rand_bbox(inputs.size(), lam)\n",
    "            inputs[:, :, bbx1:bbx2, bby1:bby2] = inputs[rand_index, :, bbx1:bbx2, bby1:bby2]\n",
    "            # 调整lambda以与像素比匹配\n",
    "            lam = 1 - ((bbx2 - bbx1) * (bby2 - bby1) / (inputs.size()[-1] * inputs.size()[-2]))\n",
    "            # 计算输出\n",
    "            output = model(inputs)\n",
    "            loss = mixup_criterion(criterion, output, target_a, target_b, lam)\n",
    "        else:\n",
    "            # 计算输出\n",
    "            output = model(inputs)\n",
    "            loss = criterion(output, targets)\n",
    "\n",
    "        train_loss += loss.item()\n",
    "        _, predicted = torch.max(output.data, 1)\n",
    "        total += targets.size(0)\n",
    "        correct += predicted.eq(targets.data).cpu().sum().float()\n",
    "\n",
    "        optimizer.zero_grad()\n",
    "        loss.backward()\n",
    "        optimizer.step()\n",
    "\n",
    "        progress_bar.set_postfix(xentropy='%.3f' % (train_loss / (batch_idx + 1)),\n",
    "                acc='%.3f' % (correct / total))\n",
    "\n",
    "    return (train_loss / (batch_idx + 1)), (correct / total).item()\n",
    "\n",
    "# 测试函数\n",
    "def test():\n",
    "    model.eval()\n",
    "    correct = 0.\n",
    "    total = 0.\n",
    "    for images, labels in test_loader:\n",
    "        if args['cuda']:\n",
    "            images = images.cuda()\n",
    "            labels = labels.cuda()\n",
    "\n",
    "        with torch.no_grad():\n",
    "            pred = model(images)\n",
    "\n",
    "        pred = torch.max(pred.data, 1)[1]\n",
    "        total += labels.size(0)\n",
    "        correct += (pred == labels).sum().item()\n",
    "\n",
    "    test_acc = correct / total\n",
    "    model.train()\n",
    "    return test_acc"
   ]
  },
  {
   "cell_type": "markdown",
   "metadata": {
    "id": "BNqs0dQsSZfP"
   },
   "source": [
    "**第四部分：main操作**"
   ]
  },
  {
   "cell_type": "markdown",
   "metadata": {},
   "source": [
    "baseline方法"
   ]
  },
  {
   "cell_type": "code",
   "execution_count": 10,
   "metadata": {},
   "outputs": [
    {
     "name": "stdout",
     "output_type": "stream",
     "text": [
      "Files already downloaded and verified\n",
      "Files already downloaded and verified\n"
     ]
    },
    {
     "name": "stderr",
     "output_type": "stream",
     "text": [
      "Epoch 1:   0%|          | 0/391 [00:00<?, ?it/s]"
     ]
    },
    {
     "name": "stdout",
     "output_type": "stream",
     "text": [
      "\n",
      "Epoch: 1\n"
     ]
    },
    {
     "name": "stderr",
     "output_type": "stream",
     "text": [
      "Epoch 1: 100%|██████████| 391/391 [02:09<00:00,  3.02it/s, acc=0.104, xentropy=3.867]\n",
      "Epoch 2:   0%|          | 0/391 [00:00<?, ?it/s]"
     ]
    },
    {
     "name": "stdout",
     "output_type": "stream",
     "text": [
      "test_acc: 0.165\n",
      "\n",
      "Epoch: 2\n"
     ]
    },
    {
     "name": "stderr",
     "output_type": "stream",
     "text": [
      "Epoch 2: 100%|██████████| 391/391 [02:09<00:00,  3.02it/s, acc=0.231, xentropy=3.078]\n",
      "Epoch 3:   0%|          | 0/391 [00:00<?, ?it/s]"
     ]
    },
    {
     "name": "stdout",
     "output_type": "stream",
     "text": [
      "test_acc: 0.278\n",
      "\n",
      "Epoch: 3\n"
     ]
    },
    {
     "name": "stderr",
     "output_type": "stream",
     "text": [
      "Epoch 3: 100%|██████████| 391/391 [02:09<00:00,  3.02it/s, acc=0.346, xentropy=2.488]\n",
      "Epoch 4:   0%|          | 0/391 [00:00<?, ?it/s]"
     ]
    },
    {
     "name": "stdout",
     "output_type": "stream",
     "text": [
      "test_acc: 0.368\n",
      "\n",
      "Epoch: 4\n"
     ]
    },
    {
     "name": "stderr",
     "output_type": "stream",
     "text": [
      "Epoch 4: 100%|██████████| 391/391 [02:09<00:00,  3.02it/s, acc=0.429, xentropy=2.103]\n",
      "Epoch 5:   0%|          | 0/391 [00:00<?, ?it/s]"
     ]
    },
    {
     "name": "stdout",
     "output_type": "stream",
     "text": [
      "test_acc: 0.446\n",
      "\n",
      "Epoch: 5\n"
     ]
    },
    {
     "name": "stderr",
     "output_type": "stream",
     "text": [
      "Epoch 5: 100%|██████████| 391/391 [02:09<00:00,  3.03it/s, acc=0.485, xentropy=1.855]\n",
      "Epoch 6:   0%|          | 0/391 [00:00<?, ?it/s]"
     ]
    },
    {
     "name": "stdout",
     "output_type": "stream",
     "text": [
      "test_acc: 0.449\n",
      "\n",
      "Epoch: 6\n"
     ]
    },
    {
     "name": "stderr",
     "output_type": "stream",
     "text": [
      "Epoch 6: 100%|██████████| 391/391 [02:09<00:00,  3.02it/s, acc=0.526, xentropy=1.693]\n",
      "Epoch 7:   0%|          | 0/391 [00:00<?, ?it/s]"
     ]
    },
    {
     "name": "stdout",
     "output_type": "stream",
     "text": [
      "test_acc: 0.499\n",
      "\n",
      "Epoch: 7\n"
     ]
    },
    {
     "name": "stderr",
     "output_type": "stream",
     "text": [
      "Epoch 7: 100%|██████████| 391/391 [02:09<00:00,  3.03it/s, acc=0.555, xentropy=1.578]\n",
      "Epoch 8:   0%|          | 0/391 [00:00<?, ?it/s]"
     ]
    },
    {
     "name": "stdout",
     "output_type": "stream",
     "text": [
      "test_acc: 0.466\n",
      "\n",
      "Epoch: 8\n"
     ]
    },
    {
     "name": "stderr",
     "output_type": "stream",
     "text": [
      "Epoch 8: 100%|██████████| 391/391 [02:09<00:00,  3.02it/s, acc=0.571, xentropy=1.500]\n",
      "Epoch 9:   0%|          | 0/391 [00:00<?, ?it/s]"
     ]
    },
    {
     "name": "stdout",
     "output_type": "stream",
     "text": [
      "test_acc: 0.470\n",
      "\n",
      "Epoch: 9\n"
     ]
    },
    {
     "name": "stderr",
     "output_type": "stream",
     "text": [
      "Epoch 9: 100%|██████████| 391/391 [02:08<00:00,  3.03it/s, acc=0.587, xentropy=1.441]\n",
      "Epoch 10:   0%|          | 0/391 [00:00<?, ?it/s]"
     ]
    },
    {
     "name": "stdout",
     "output_type": "stream",
     "text": [
      "test_acc: 0.522\n",
      "\n",
      "Epoch: 10\n"
     ]
    },
    {
     "name": "stderr",
     "output_type": "stream",
     "text": [
      "Epoch 10: 100%|██████████| 391/391 [02:09<00:00,  3.03it/s, acc=0.607, xentropy=1.368]\n",
      "Epoch 11:   0%|          | 0/391 [00:00<?, ?it/s]"
     ]
    },
    {
     "name": "stdout",
     "output_type": "stream",
     "text": [
      "test_acc: 0.523\n",
      "\n",
      "Epoch: 11\n"
     ]
    },
    {
     "name": "stderr",
     "output_type": "stream",
     "text": [
      "Epoch 11: 100%|██████████| 391/391 [02:08<00:00,  3.03it/s, acc=0.618, xentropy=1.333]\n",
      "Epoch 12:   0%|          | 0/391 [00:00<?, ?it/s]"
     ]
    },
    {
     "name": "stdout",
     "output_type": "stream",
     "text": [
      "test_acc: 0.557\n",
      "\n",
      "Epoch: 12\n"
     ]
    },
    {
     "name": "stderr",
     "output_type": "stream",
     "text": [
      "Epoch 12: 100%|██████████| 391/391 [02:09<00:00,  3.03it/s, acc=0.629, xentropy=1.294]\n",
      "Epoch 13:   0%|          | 0/391 [00:00<?, ?it/s]"
     ]
    },
    {
     "name": "stdout",
     "output_type": "stream",
     "text": [
      "test_acc: 0.532\n",
      "\n",
      "Epoch: 13\n"
     ]
    },
    {
     "name": "stderr",
     "output_type": "stream",
     "text": [
      "Epoch 13: 100%|██████████| 391/391 [02:08<00:00,  3.04it/s, acc=0.635, xentropy=1.261]\n",
      "Epoch 14:   0%|          | 0/391 [00:00<?, ?it/s]"
     ]
    },
    {
     "name": "stdout",
     "output_type": "stream",
     "text": [
      "test_acc: 0.577\n",
      "\n",
      "Epoch: 14\n"
     ]
    },
    {
     "name": "stderr",
     "output_type": "stream",
     "text": [
      "Epoch 14: 100%|██████████| 391/391 [02:08<00:00,  3.04it/s, acc=0.639, xentropy=1.236]\n",
      "Epoch 15:   0%|          | 0/391 [00:00<?, ?it/s]"
     ]
    },
    {
     "name": "stdout",
     "output_type": "stream",
     "text": [
      "test_acc: 0.535\n",
      "\n",
      "Epoch: 15\n"
     ]
    },
    {
     "name": "stderr",
     "output_type": "stream",
     "text": [
      "Epoch 15: 100%|██████████| 391/391 [02:08<00:00,  3.05it/s, acc=0.650, xentropy=1.208]\n",
      "Epoch 16:   0%|          | 0/391 [00:00<?, ?it/s]"
     ]
    },
    {
     "name": "stdout",
     "output_type": "stream",
     "text": [
      "test_acc: 0.518\n",
      "\n",
      "Epoch: 16\n"
     ]
    },
    {
     "name": "stderr",
     "output_type": "stream",
     "text": [
      "Epoch 16: 100%|██████████| 391/391 [02:08<00:00,  3.04it/s, acc=0.657, xentropy=1.185]\n",
      "Epoch 17:   0%|          | 0/391 [00:00<?, ?it/s]"
     ]
    },
    {
     "name": "stdout",
     "output_type": "stream",
     "text": [
      "test_acc: 0.557\n",
      "\n",
      "Epoch: 17\n"
     ]
    },
    {
     "name": "stderr",
     "output_type": "stream",
     "text": [
      "Epoch 17: 100%|██████████| 391/391 [02:08<00:00,  3.05it/s, acc=0.658, xentropy=1.174]\n",
      "Epoch 18:   0%|          | 0/391 [00:00<?, ?it/s]"
     ]
    },
    {
     "name": "stdout",
     "output_type": "stream",
     "text": [
      "test_acc: 0.575\n",
      "\n",
      "Epoch: 18\n"
     ]
    },
    {
     "name": "stderr",
     "output_type": "stream",
     "text": [
      "Epoch 18: 100%|██████████| 391/391 [02:08<00:00,  3.04it/s, acc=0.666, xentropy=1.148]\n",
      "Epoch 19:   0%|          | 0/391 [00:00<?, ?it/s]"
     ]
    },
    {
     "name": "stdout",
     "output_type": "stream",
     "text": [
      "test_acc: 0.536\n",
      "\n",
      "Epoch: 19\n"
     ]
    },
    {
     "name": "stderr",
     "output_type": "stream",
     "text": [
      "Epoch 19: 100%|██████████| 391/391 [02:08<00:00,  3.05it/s, acc=0.668, xentropy=1.139]\n",
      "Epoch 20:   0%|          | 0/391 [00:00<?, ?it/s]"
     ]
    },
    {
     "name": "stdout",
     "output_type": "stream",
     "text": [
      "test_acc: 0.549\n",
      "\n",
      "Epoch: 20\n"
     ]
    },
    {
     "name": "stderr",
     "output_type": "stream",
     "text": [
      "Epoch 20: 100%|██████████| 391/391 [02:08<00:00,  3.04it/s, acc=0.672, xentropy=1.123]\n",
      "Epoch 21:   0%|          | 0/391 [00:00<?, ?it/s]"
     ]
    },
    {
     "name": "stdout",
     "output_type": "stream",
     "text": [
      "test_acc: 0.562\n",
      "\n",
      "Epoch: 21\n"
     ]
    },
    {
     "name": "stderr",
     "output_type": "stream",
     "text": [
      "Epoch 21: 100%|██████████| 391/391 [02:08<00:00,  3.05it/s, acc=0.797, xentropy=0.688]\n",
      "Epoch 22:   0%|          | 0/391 [00:00<?, ?it/s]"
     ]
    },
    {
     "name": "stdout",
     "output_type": "stream",
     "text": [
      "test_acc: 0.713\n",
      "\n",
      "Epoch: 22\n"
     ]
    },
    {
     "name": "stderr",
     "output_type": "stream",
     "text": [
      "Epoch 22: 100%|██████████| 391/391 [02:08<00:00,  3.05it/s, acc=0.834, xentropy=0.547]\n",
      "Epoch 23:   0%|          | 0/391 [00:00<?, ?it/s]"
     ]
    },
    {
     "name": "stdout",
     "output_type": "stream",
     "text": [
      "test_acc: 0.724\n",
      "\n",
      "Epoch: 23\n"
     ]
    },
    {
     "name": "stderr",
     "output_type": "stream",
     "text": [
      "Epoch 23: 100%|██████████| 391/391 [02:07<00:00,  3.06it/s, acc=0.855, xentropy=0.480]\n",
      "Epoch 24:   0%|          | 0/391 [00:00<?, ?it/s]"
     ]
    },
    {
     "name": "stdout",
     "output_type": "stream",
     "text": [
      "test_acc: 0.712\n",
      "\n",
      "Epoch: 24\n"
     ]
    },
    {
     "name": "stderr",
     "output_type": "stream",
     "text": [
      "Epoch 24: 100%|██████████| 391/391 [02:08<00:00,  3.04it/s, acc=0.870, xentropy=0.430]\n",
      "Epoch 25:   0%|          | 0/391 [00:00<?, ?it/s]"
     ]
    },
    {
     "name": "stdout",
     "output_type": "stream",
     "text": [
      "test_acc: 0.717\n",
      "\n",
      "Epoch: 25\n"
     ]
    },
    {
     "name": "stderr",
     "output_type": "stream",
     "text": [
      "Epoch 25: 100%|██████████| 391/391 [02:08<00:00,  3.05it/s, acc=0.879, xentropy=0.396]\n",
      "Epoch 26:   0%|          | 0/391 [00:00<?, ?it/s]"
     ]
    },
    {
     "name": "stdout",
     "output_type": "stream",
     "text": [
      "test_acc: 0.714\n",
      "\n",
      "Epoch: 26\n"
     ]
    },
    {
     "name": "stderr",
     "output_type": "stream",
     "text": [
      "Epoch 26: 100%|██████████| 391/391 [02:08<00:00,  3.05it/s, acc=0.885, xentropy=0.369]\n",
      "Epoch 27:   0%|          | 0/391 [00:00<?, ?it/s]"
     ]
    },
    {
     "name": "stdout",
     "output_type": "stream",
     "text": [
      "test_acc: 0.713\n",
      "\n",
      "Epoch: 27\n"
     ]
    },
    {
     "name": "stderr",
     "output_type": "stream",
     "text": [
      "Epoch 27: 100%|██████████| 391/391 [02:08<00:00,  3.05it/s, acc=0.891, xentropy=0.354]\n",
      "Epoch 28:   0%|          | 0/391 [00:00<?, ?it/s]"
     ]
    },
    {
     "name": "stdout",
     "output_type": "stream",
     "text": [
      "test_acc: 0.712\n",
      "\n",
      "Epoch: 28\n"
     ]
    },
    {
     "name": "stderr",
     "output_type": "stream",
     "text": [
      "Epoch 28: 100%|██████████| 391/391 [02:08<00:00,  3.04it/s, acc=0.897, xentropy=0.335]\n",
      "Epoch 29:   0%|          | 0/391 [00:00<?, ?it/s]"
     ]
    },
    {
     "name": "stdout",
     "output_type": "stream",
     "text": [
      "test_acc: 0.701\n",
      "\n",
      "Epoch: 29\n"
     ]
    },
    {
     "name": "stderr",
     "output_type": "stream",
     "text": [
      "Epoch 29: 100%|██████████| 391/391 [02:08<00:00,  3.05it/s, acc=0.899, xentropy=0.326]\n",
      "Epoch 30:   0%|          | 0/391 [00:00<?, ?it/s]"
     ]
    },
    {
     "name": "stdout",
     "output_type": "stream",
     "text": [
      "test_acc: 0.700\n",
      "\n",
      "Epoch: 30\n"
     ]
    },
    {
     "name": "stderr",
     "output_type": "stream",
     "text": [
      "Epoch 30: 100%|██████████| 391/391 [02:08<00:00,  3.05it/s, acc=0.904, xentropy=0.312]\n",
      "Epoch 31:   0%|          | 0/391 [00:00<?, ?it/s]"
     ]
    },
    {
     "name": "stdout",
     "output_type": "stream",
     "text": [
      "test_acc: 0.699\n",
      "\n",
      "Epoch: 31\n"
     ]
    },
    {
     "name": "stderr",
     "output_type": "stream",
     "text": [
      "Epoch 31: 100%|██████████| 391/391 [02:08<00:00,  3.05it/s, acc=0.901, xentropy=0.318]\n",
      "Epoch 32:   0%|          | 0/391 [00:00<?, ?it/s]"
     ]
    },
    {
     "name": "stdout",
     "output_type": "stream",
     "text": [
      "test_acc: 0.695\n",
      "\n",
      "Epoch: 32\n"
     ]
    },
    {
     "name": "stderr",
     "output_type": "stream",
     "text": [
      "Epoch 32: 100%|██████████| 391/391 [02:08<00:00,  3.04it/s, acc=0.906, xentropy=0.304]\n",
      "Epoch 33:   0%|          | 0/391 [00:00<?, ?it/s]"
     ]
    },
    {
     "name": "stdout",
     "output_type": "stream",
     "text": [
      "test_acc: 0.697\n",
      "\n",
      "Epoch: 33\n"
     ]
    },
    {
     "name": "stderr",
     "output_type": "stream",
     "text": [
      "Epoch 33: 100%|██████████| 391/391 [02:08<00:00,  3.05it/s, acc=0.909, xentropy=0.299]\n",
      "Epoch 34:   0%|          | 0/391 [00:00<?, ?it/s]"
     ]
    },
    {
     "name": "stdout",
     "output_type": "stream",
     "text": [
      "test_acc: 0.682\n",
      "\n",
      "Epoch: 34\n"
     ]
    },
    {
     "name": "stderr",
     "output_type": "stream",
     "text": [
      "Epoch 34: 100%|██████████| 391/391 [02:08<00:00,  3.04it/s, acc=0.906, xentropy=0.303]\n",
      "Epoch 35:   0%|          | 0/391 [00:00<?, ?it/s]"
     ]
    },
    {
     "name": "stdout",
     "output_type": "stream",
     "text": [
      "test_acc: 0.671\n",
      "\n",
      "Epoch: 35\n"
     ]
    },
    {
     "name": "stderr",
     "output_type": "stream",
     "text": [
      "Epoch 35: 100%|██████████| 391/391 [02:08<00:00,  3.05it/s, acc=0.904, xentropy=0.311]\n",
      "Epoch 36:   0%|          | 0/391 [00:00<?, ?it/s]"
     ]
    },
    {
     "name": "stdout",
     "output_type": "stream",
     "text": [
      "test_acc: 0.680\n",
      "\n",
      "Epoch: 36\n"
     ]
    },
    {
     "name": "stderr",
     "output_type": "stream",
     "text": [
      "Epoch 36: 100%|██████████| 391/391 [02:07<00:00,  3.06it/s, acc=0.911, xentropy=0.292]\n",
      "Epoch 37:   0%|          | 0/391 [00:00<?, ?it/s]"
     ]
    },
    {
     "name": "stdout",
     "output_type": "stream",
     "text": [
      "test_acc: 0.690\n",
      "\n",
      "Epoch: 37\n"
     ]
    },
    {
     "name": "stderr",
     "output_type": "stream",
     "text": [
      "Epoch 37: 100%|██████████| 391/391 [02:07<00:00,  3.07it/s, acc=0.912, xentropy=0.289]\n",
      "Epoch 38:   0%|          | 0/391 [00:00<?, ?it/s]"
     ]
    },
    {
     "name": "stdout",
     "output_type": "stream",
     "text": [
      "test_acc: 0.692\n",
      "\n",
      "Epoch: 38\n"
     ]
    },
    {
     "name": "stderr",
     "output_type": "stream",
     "text": [
      "Epoch 38: 100%|██████████| 391/391 [02:07<00:00,  3.06it/s, acc=0.906, xentropy=0.300]\n",
      "Epoch 39:   0%|          | 0/391 [00:00<?, ?it/s]"
     ]
    },
    {
     "name": "stdout",
     "output_type": "stream",
     "text": [
      "test_acc: 0.694\n",
      "\n",
      "Epoch: 39\n"
     ]
    },
    {
     "name": "stderr",
     "output_type": "stream",
     "text": [
      "Epoch 39: 100%|██████████| 391/391 [02:07<00:00,  3.07it/s, acc=0.910, xentropy=0.297]\n",
      "Epoch 40:   0%|          | 0/391 [00:00<?, ?it/s]"
     ]
    },
    {
     "name": "stdout",
     "output_type": "stream",
     "text": [
      "test_acc: 0.672\n",
      "\n",
      "Epoch: 40\n"
     ]
    },
    {
     "name": "stderr",
     "output_type": "stream",
     "text": [
      "Epoch 40: 100%|██████████| 391/391 [02:07<00:00,  3.06it/s, acc=0.909, xentropy=0.289]\n",
      "Epoch 41:   0%|          | 0/391 [00:00<?, ?it/s]"
     ]
    },
    {
     "name": "stdout",
     "output_type": "stream",
     "text": [
      "test_acc: 0.690\n",
      "\n",
      "Epoch: 41\n"
     ]
    },
    {
     "name": "stderr",
     "output_type": "stream",
     "text": [
      "Epoch 41: 100%|██████████| 391/391 [02:08<00:00,  3.05it/s, acc=0.968, xentropy=0.127]\n",
      "Epoch 42:   0%|          | 0/391 [00:00<?, ?it/s]"
     ]
    },
    {
     "name": "stdout",
     "output_type": "stream",
     "text": [
      "test_acc: 0.743\n",
      "\n",
      "Epoch: 42\n"
     ]
    },
    {
     "name": "stderr",
     "output_type": "stream",
     "text": [
      "Epoch 42: 100%|██████████| 391/391 [02:08<00:00,  3.04it/s, acc=0.985, xentropy=0.076]\n",
      "Epoch 43:   0%|          | 0/391 [00:00<?, ?it/s]"
     ]
    },
    {
     "name": "stdout",
     "output_type": "stream",
     "text": [
      "test_acc: 0.747\n",
      "\n",
      "Epoch: 43\n"
     ]
    },
    {
     "name": "stderr",
     "output_type": "stream",
     "text": [
      "Epoch 43: 100%|██████████| 391/391 [02:08<00:00,  3.05it/s, acc=0.989, xentropy=0.061]\n",
      "Epoch 44:   0%|          | 0/391 [00:00<?, ?it/s]"
     ]
    },
    {
     "name": "stdout",
     "output_type": "stream",
     "text": [
      "test_acc: 0.749\n",
      "\n",
      "Epoch: 44\n"
     ]
    },
    {
     "name": "stderr",
     "output_type": "stream",
     "text": [
      "Epoch 44: 100%|██████████| 391/391 [02:08<00:00,  3.04it/s, acc=0.992, xentropy=0.051]\n",
      "Epoch 45:   0%|          | 0/391 [00:00<?, ?it/s]"
     ]
    },
    {
     "name": "stdout",
     "output_type": "stream",
     "text": [
      "test_acc: 0.750\n",
      "\n",
      "Epoch: 45\n"
     ]
    },
    {
     "name": "stderr",
     "output_type": "stream",
     "text": [
      "Epoch 45: 100%|██████████| 391/391 [02:08<00:00,  3.05it/s, acc=0.993, xentropy=0.046]\n",
      "Epoch 46:   0%|          | 0/391 [00:00<?, ?it/s]"
     ]
    },
    {
     "name": "stdout",
     "output_type": "stream",
     "text": [
      "test_acc: 0.752\n",
      "\n",
      "Epoch: 46\n"
     ]
    },
    {
     "name": "stderr",
     "output_type": "stream",
     "text": [
      "Epoch 46: 100%|██████████| 391/391 [02:08<00:00,  3.04it/s, acc=0.994, xentropy=0.041]\n",
      "Epoch 47:   0%|          | 0/391 [00:00<?, ?it/s]"
     ]
    },
    {
     "name": "stdout",
     "output_type": "stream",
     "text": [
      "test_acc: 0.755\n",
      "\n",
      "Epoch: 47\n"
     ]
    },
    {
     "name": "stderr",
     "output_type": "stream",
     "text": [
      "Epoch 47: 100%|██████████| 391/391 [02:08<00:00,  3.05it/s, acc=0.995, xentropy=0.037]\n",
      "Epoch 48:   0%|          | 0/391 [00:00<?, ?it/s]"
     ]
    },
    {
     "name": "stdout",
     "output_type": "stream",
     "text": [
      "test_acc: 0.753\n",
      "\n",
      "Epoch: 48\n"
     ]
    },
    {
     "name": "stderr",
     "output_type": "stream",
     "text": [
      "Epoch 48: 100%|██████████| 391/391 [02:08<00:00,  3.05it/s, acc=0.997, xentropy=0.033]\n",
      "Epoch 49:   0%|          | 0/391 [00:00<?, ?it/s]"
     ]
    },
    {
     "name": "stdout",
     "output_type": "stream",
     "text": [
      "test_acc: 0.753\n",
      "\n",
      "Epoch: 49\n"
     ]
    },
    {
     "name": "stderr",
     "output_type": "stream",
     "text": [
      "Epoch 49: 100%|██████████| 391/391 [02:08<00:00,  3.05it/s, acc=0.997, xentropy=0.032]\n",
      "Epoch 50:   0%|          | 0/391 [00:00<?, ?it/s]"
     ]
    },
    {
     "name": "stdout",
     "output_type": "stream",
     "text": [
      "test_acc: 0.753\n",
      "\n",
      "Epoch: 50\n"
     ]
    },
    {
     "name": "stderr",
     "output_type": "stream",
     "text": [
      "Epoch 50: 100%|██████████| 391/391 [02:08<00:00,  3.05it/s, acc=0.997, xentropy=0.030]\n"
     ]
    },
    {
     "name": "stdout",
     "output_type": "stream",
     "text": [
      "test_acc: 0.752\n"
     ]
    }
   ],
   "source": [
    "# 定义参数\n",
    "args = {\"method\": 'baseline',  # ['baseline', 'cutmix', 'cutout', 'mixup']\n",
    "      \"dataset\": 'cifar100',  # ['cifar10', 'cifar100']\n",
    "      \"model\": 'resnet18',  # ['resnet18]\n",
    "      \"batch_size\" : 128,  # [32, 64, 128] 固定为128进行训练\n",
    "      \"epochs\" : 50,     # 固定为50进行训练\n",
    "      \"learning_rate\": 0.1, # \n",
    "      \"data_augmentation\": True, # 数据增强，默认为True\n",
    "      \"no_cuda\": False, # 是否使用GPU\n",
    "      \"seed\": 0, \n",
    "      \"n_holes\": 1,\n",
    "      \"length\": 16,\n",
    "      \"alpha\": 0.2,\n",
    "      \"cutmix_prob\": 0.1\n",
    "}\n",
    "\n",
    "if args['method'] == 'cutout':\n",
    "    train = train_cutout\n",
    "elif args['method'] == 'mixup':\n",
    "    train = train_mixup\n",
    "elif args['method'] == 'cutmix':\n",
    "    train = train_cutmix\n",
    "elif args['method'] == 'baseline':\n",
    "    train = train_cutout\n",
    "else:\n",
    "    raise Exception('unknown method: {}'.format(args['method']))\n",
    "\n",
    "args['cuda'] = not args['no_cuda'] and torch.cuda.is_available()\n",
    "cudnn.benchmark = True\n",
    "\n",
    "torch.manual_seed(args['seed'])\n",
    "if args['cuda']:\n",
    "    torch.cuda.manual_seed(args['seed'])\n",
    "\n",
    "# 归一化\n",
    "normalize = transforms.Normalize(mean=[x/255.0 for x in [125.3, 123.0, 113.9]],\n",
    "                  std=[x/255.0 for x in [63.0, 62.1, 66.7]])\n",
    "\n",
    "# 训练集预处理\n",
    "train_transform = transforms.Compose([])\n",
    "if args['data_augmentation']:\n",
    "    train_transform.transforms.append(transforms.RandomCrop(32, padding=4))\n",
    "    train_transform.transforms.append(transforms.RandomHorizontalFlip())\n",
    "train_transform.transforms.append(transforms.ToTensor())\n",
    "train_transform.transforms.append(normalize)\n",
    "if args['method'] == 'cutout':\n",
    "    train_transform.transforms.append(Cutout(n_holes=args['n_holes'], length=args['length']))\n",
    "\n",
    "# 测试集预处理\n",
    "test_transform = transforms.Compose([\n",
    "    transforms.ToTensor(),\n",
    "    normalize])\n",
    "\n",
    "# 数据集选择\n",
    "if args['dataset'] == 'cifar10':\n",
    "    num_classes = 10\n",
    "    train_dataset = datasets.CIFAR10(root='./data/',\n",
    "                    train=True,\n",
    "                    transform=train_transform,\n",
    "                    download=True)\n",
    "    test_dataset = datasets.CIFAR10(root='./data/',\n",
    "                   train=False,\n",
    "                   transform=test_transform,\n",
    "                   download=True)\n",
    "elif args['dataset'] == 'cifar100':\n",
    "    num_classes = 100\n",
    "    train_dataset = datasets.CIFAR100(root='./data/',\n",
    "                    train=True,\n",
    "                    transform=train_transform,\n",
    "                    download=True)\n",
    "    test_dataset = datasets.CIFAR100(root='./data/',\n",
    "                   train=False,\n",
    "                   transform=test_transform,\n",
    "                   download=True)\n",
    "else:\n",
    "    raise Exception('unknown dataset: {}'.format(args['dataset']))\n",
    "\n",
    "# 定义Data Loader\n",
    "train_loader = torch.utils.data.DataLoader(dataset=train_dataset,\n",
    "                       batch_size=args['batch_size'],\n",
    "                       shuffle=True,\n",
    "                       pin_memory=True)\n",
    "\n",
    "test_loader = torch.utils.data.DataLoader(dataset=test_dataset,\n",
    "                      batch_size=args['batch_size'],\n",
    "                      shuffle=False,\n",
    "                      pin_memory=True)\n",
    "\n",
    "# 选择训练模型\n",
    "if args['model'] == 'resnet18':\n",
    "    model = ResNet18(num_classes=num_classes)\n",
    "else:\n",
    "    raise Exception('unknown model: {}'.format(args['model']))\n",
    "\n",
    "if args['cuda']:\n",
    "    model = model.cuda()\n",
    "\n",
    "# 定义损失函数\n",
    "if args['cuda']:\n",
    "    criterion = nn.CrossEntropyLoss().cuda()\n",
    "else:\n",
    "    criterion = nn.CrossEntropyLoss()\n",
    "\n",
    "# 定义优化器\n",
    "optimizer = torch.optim.SGD(model.parameters(), lr=args['learning_rate'],\n",
    "                momentum=0.9, nesterov=True, weight_decay=5e-4)\n",
    "\n",
    "# 定义学习率优化\n",
    "scheduler = MultiStepLR(optimizer, milestones=[20, 40], gamma=0.2)\n",
    "\n",
    "# 获取存储名\n",
    "test_id = args['dataset'] + '_' + args['model'] + '_' + args['method']\n",
    "if not args['data_augmentation']:\n",
    "    test_id += '_noaugment'\n",
    "\n",
    "# 数据储存到csv文件\n",
    "try:\n",
    "    os.makedirs('./runs')\n",
    "except:\n",
    "    pass\n",
    "filename = './runs/' + test_id + '.csv'\n",
    "csv_logger = CSVLogger(args=args, fieldnames=['epoch', 'train_loss', 'train_acc', 'test_acc']\n",
    "                       , filename=filename)\n",
    "\n",
    "# 训练模型过程\n",
    "writer = SummaryWriter('./runs/train') # 使用tensorboard进行可视化\n",
    "for epoch in range(1, args['epochs'] + 1):\n",
    "    train_loss, train_acc = train(epoch)\n",
    "    test_acc = test()\n",
    "    tqdm.write('test_acc: %.3f' % test_acc)\n",
    "    scheduler.step()\n",
    "    row = {'epoch': str(epoch), 'train_loss':str(train_loss), 'train_acc': str(train_acc), 'test_acc': str(test_acc)}\n",
    "    csv_logger.writerow(row)\n",
    "    writer.add_scalar('train_loss', train_loss, global_step=epoch)\n",
    "    writer.add_scalar('train_acc', train_acc, global_step=epoch)\n",
    "    writer.add_scalar('test_acc', test_acc, global_step=epoch)\n",
    "writer.close()\n",
    "\n",
    "# 保存模型\n",
    "try:\n",
    "    os.makedirs('./checkpoints')\n",
    "except:\n",
    "    pass\n",
    "\n",
    "torch.save(model.state_dict(), './checkpoints/' + test_id + '.pth')\n",
    "\n",
    "csv_logger.close()"
   ]
  },
  {
   "cell_type": "markdown",
   "metadata": {},
   "source": [
    "cutmix方法"
   ]
  },
  {
   "cell_type": "code",
   "execution_count": 11,
   "metadata": {
    "colab": {
     "base_uri": "https://localhost:8080/"
    },
    "id": "-y414fknScoq",
    "outputId": "3be6fd43-1a79-480c-f529-518f4566c6e3"
   },
   "outputs": [
    {
     "name": "stdout",
     "output_type": "stream",
     "text": [
      "Files already downloaded and verified\n",
      "Files already downloaded and verified\n"
     ]
    },
    {
     "name": "stderr",
     "output_type": "stream",
     "text": [
      "Epoch 1:   0%|          | 1/391 [00:00<01:00,  6.42it/s, acc=0.000, xentropy=4.689]"
     ]
    },
    {
     "name": "stdout",
     "output_type": "stream",
     "text": [
      "\n",
      "Epoch: 1\n"
     ]
    },
    {
     "name": "stderr",
     "output_type": "stream",
     "text": [
      "Epoch 1: 100%|██████████| 391/391 [01:46<00:00,  3.67it/s, acc=0.094, xentropy=3.954]\n",
      "Epoch 2:   0%|          | 1/391 [00:00<01:00,  6.41it/s, acc=0.164, xentropy=3.417]"
     ]
    },
    {
     "name": "stdout",
     "output_type": "stream",
     "text": [
      "test_acc: 0.163\n",
      "\n",
      "Epoch: 2\n"
     ]
    },
    {
     "name": "stderr",
     "output_type": "stream",
     "text": [
      "Epoch 2: 100%|██████████| 391/391 [01:46<00:00,  3.68it/s, acc=0.203, xentropy=3.253]\n",
      "Epoch 3:   0%|          | 1/391 [00:00<01:00,  6.48it/s, acc=0.242, xentropy=2.926]"
     ]
    },
    {
     "name": "stdout",
     "output_type": "stream",
     "text": [
      "test_acc: 0.263\n",
      "\n",
      "Epoch: 3\n"
     ]
    },
    {
     "name": "stderr",
     "output_type": "stream",
     "text": [
      "Epoch 3: 100%|██████████| 391/391 [01:46<00:00,  3.68it/s, acc=0.303, xentropy=2.725]\n",
      "Epoch 4:   0%|          | 1/391 [00:00<01:00,  6.50it/s, acc=0.352, xentropy=2.673]"
     ]
    },
    {
     "name": "stdout",
     "output_type": "stream",
     "text": [
      "test_acc: 0.333\n",
      "\n",
      "Epoch: 4\n"
     ]
    },
    {
     "name": "stderr",
     "output_type": "stream",
     "text": [
      "Epoch 4: 100%|██████████| 391/391 [01:46<00:00,  3.68it/s, acc=0.388, xentropy=2.334]\n",
      "Epoch 5:   0%|          | 1/391 [00:00<01:00,  6.40it/s, acc=0.453, xentropy=2.009]"
     ]
    },
    {
     "name": "stdout",
     "output_type": "stream",
     "text": [
      "test_acc: 0.375\n",
      "\n",
      "Epoch: 5\n"
     ]
    },
    {
     "name": "stderr",
     "output_type": "stream",
     "text": [
      "Epoch 5: 100%|██████████| 391/391 [01:46<00:00,  3.68it/s, acc=0.449, xentropy=2.066]\n",
      "Epoch 6:   0%|          | 1/391 [00:00<01:04,  6.03it/s, acc=0.562, xentropy=1.749]"
     ]
    },
    {
     "name": "stdout",
     "output_type": "stream",
     "text": [
      "test_acc: 0.451\n",
      "\n",
      "Epoch: 6\n"
     ]
    },
    {
     "name": "stderr",
     "output_type": "stream",
     "text": [
      "Epoch 6: 100%|██████████| 391/391 [01:46<00:00,  3.67it/s, acc=0.495, xentropy=1.878]\n",
      "Epoch 7:   0%|          | 1/391 [00:00<01:05,  5.98it/s, acc=0.547, xentropy=1.608]"
     ]
    },
    {
     "name": "stdout",
     "output_type": "stream",
     "text": [
      "test_acc: 0.468\n",
      "\n",
      "Epoch: 7\n"
     ]
    },
    {
     "name": "stderr",
     "output_type": "stream",
     "text": [
      "Epoch 7: 100%|██████████| 391/391 [01:46<00:00,  3.67it/s, acc=0.516, xentropy=1.799]\n",
      "Epoch 8:   0%|          | 1/391 [00:00<01:00,  6.40it/s, acc=0.531, xentropy=1.531]"
     ]
    },
    {
     "name": "stdout",
     "output_type": "stream",
     "text": [
      "test_acc: 0.500\n",
      "\n",
      "Epoch: 8\n"
     ]
    },
    {
     "name": "stderr",
     "output_type": "stream",
     "text": [
      "Epoch 8: 100%|██████████| 391/391 [01:46<00:00,  3.67it/s, acc=0.535, xentropy=1.744]\n",
      "Epoch 9:   0%|          | 1/391 [00:00<01:06,  5.90it/s, acc=0.594, xentropy=1.764]"
     ]
    },
    {
     "name": "stdout",
     "output_type": "stream",
     "text": [
      "test_acc: 0.511\n",
      "\n",
      "Epoch: 9\n"
     ]
    },
    {
     "name": "stderr",
     "output_type": "stream",
     "text": [
      "Epoch 9: 100%|██████████| 391/391 [01:46<00:00,  3.67it/s, acc=0.564, xentropy=1.616]\n",
      "Epoch 10:   0%|          | 1/391 [00:00<01:02,  6.25it/s, acc=0.359, xentropy=3.438]"
     ]
    },
    {
     "name": "stdout",
     "output_type": "stream",
     "text": [
      "test_acc: 0.488\n",
      "\n",
      "Epoch: 10\n"
     ]
    },
    {
     "name": "stderr",
     "output_type": "stream",
     "text": [
      "Epoch 10: 100%|██████████| 391/391 [01:46<00:00,  3.67it/s, acc=0.570, xentropy=1.573]\n",
      "Epoch 11:   0%|          | 1/391 [00:00<01:04,  6.06it/s, acc=0.680, xentropy=1.195]"
     ]
    },
    {
     "name": "stdout",
     "output_type": "stream",
     "text": [
      "test_acc: 0.557\n",
      "\n",
      "Epoch: 11\n"
     ]
    },
    {
     "name": "stderr",
     "output_type": "stream",
     "text": [
      "Epoch 11: 100%|██████████| 391/391 [01:46<00:00,  3.67it/s, acc=0.590, xentropy=1.485]\n",
      "Epoch 12:   0%|          | 1/391 [00:00<01:00,  6.42it/s, acc=0.617, xentropy=1.371]"
     ]
    },
    {
     "name": "stdout",
     "output_type": "stream",
     "text": [
      "test_acc: 0.514\n",
      "\n",
      "Epoch: 12\n"
     ]
    },
    {
     "name": "stderr",
     "output_type": "stream",
     "text": [
      "Epoch 12: 100%|██████████| 391/391 [01:46<00:00,  3.67it/s, acc=0.600, xentropy=1.464]\n",
      "Epoch 13:   0%|          | 1/391 [00:00<01:00,  6.40it/s, acc=0.625, xentropy=1.390]"
     ]
    },
    {
     "name": "stdout",
     "output_type": "stream",
     "text": [
      "test_acc: 0.547\n",
      "\n",
      "Epoch: 13\n"
     ]
    },
    {
     "name": "stderr",
     "output_type": "stream",
     "text": [
      "Epoch 13: 100%|██████████| 391/391 [01:46<00:00,  3.68it/s, acc=0.604, xentropy=1.459]\n",
      "Epoch 14:   0%|          | 1/391 [00:00<01:01,  6.37it/s, acc=0.578, xentropy=1.314]"
     ]
    },
    {
     "name": "stdout",
     "output_type": "stream",
     "text": [
      "test_acc: 0.540\n",
      "\n",
      "Epoch: 14\n"
     ]
    },
    {
     "name": "stderr",
     "output_type": "stream",
     "text": [
      "Epoch 14: 100%|██████████| 391/391 [01:46<00:00,  3.68it/s, acc=0.604, xentropy=1.458]\n",
      "Epoch 15:   0%|          | 1/391 [00:00<01:00,  6.41it/s, acc=0.750, xentropy=0.943]"
     ]
    },
    {
     "name": "stdout",
     "output_type": "stream",
     "text": [
      "test_acc: 0.532\n",
      "\n",
      "Epoch: 15\n"
     ]
    },
    {
     "name": "stderr",
     "output_type": "stream",
     "text": [
      "Epoch 15: 100%|██████████| 391/391 [01:46<00:00,  3.67it/s, acc=0.619, xentropy=1.397]\n",
      "Epoch 16:   0%|          | 1/391 [00:00<01:01,  6.37it/s, acc=0.164, xentropy=3.803]"
     ]
    },
    {
     "name": "stdout",
     "output_type": "stream",
     "text": [
      "test_acc: 0.541\n",
      "\n",
      "Epoch: 16\n"
     ]
    },
    {
     "name": "stderr",
     "output_type": "stream",
     "text": [
      "Epoch 16: 100%|██████████| 391/391 [01:46<00:00,  3.68it/s, acc=0.624, xentropy=1.380]\n",
      "Epoch 17:   0%|          | 1/391 [00:00<01:01,  6.39it/s, acc=0.680, xentropy=1.003]"
     ]
    },
    {
     "name": "stdout",
     "output_type": "stream",
     "text": [
      "test_acc: 0.588\n",
      "\n",
      "Epoch: 17\n"
     ]
    },
    {
     "name": "stderr",
     "output_type": "stream",
     "text": [
      "Epoch 17: 100%|██████████| 391/391 [01:46<00:00,  3.67it/s, acc=0.636, xentropy=1.319]\n",
      "Epoch 18:   0%|          | 1/391 [00:00<00:59,  6.51it/s, acc=0.625, xentropy=1.251]"
     ]
    },
    {
     "name": "stdout",
     "output_type": "stream",
     "text": [
      "test_acc: 0.572\n",
      "\n",
      "Epoch: 18\n"
     ]
    },
    {
     "name": "stderr",
     "output_type": "stream",
     "text": [
      "Epoch 18: 100%|██████████| 391/391 [01:46<00:00,  3.67it/s, acc=0.628, xentropy=1.341]\n",
      "Epoch 19:   0%|          | 1/391 [00:00<01:00,  6.40it/s, acc=0.656, xentropy=1.195]"
     ]
    },
    {
     "name": "stdout",
     "output_type": "stream",
     "text": [
      "test_acc: 0.544\n",
      "\n",
      "Epoch: 19\n"
     ]
    },
    {
     "name": "stderr",
     "output_type": "stream",
     "text": [
      "Epoch 19: 100%|██████████| 391/391 [01:46<00:00,  3.67it/s, acc=0.639, xentropy=1.300]\n",
      "Epoch 20:   0%|          | 1/391 [00:00<01:05,  5.99it/s, acc=0.672, xentropy=0.929]"
     ]
    },
    {
     "name": "stdout",
     "output_type": "stream",
     "text": [
      "test_acc: 0.538\n",
      "\n",
      "Epoch: 20\n"
     ]
    },
    {
     "name": "stderr",
     "output_type": "stream",
     "text": [
      "Epoch 20: 100%|██████████| 391/391 [01:46<00:00,  3.67it/s, acc=0.627, xentropy=1.353]\n",
      "Epoch 21:   0%|          | 1/391 [00:00<01:06,  5.83it/s, acc=0.508, xentropy=3.063]"
     ]
    },
    {
     "name": "stdout",
     "output_type": "stream",
     "text": [
      "test_acc: 0.602\n",
      "\n",
      "Epoch: 21\n"
     ]
    },
    {
     "name": "stderr",
     "output_type": "stream",
     "text": [
      "Epoch 21: 100%|██████████| 391/391 [01:46<00:00,  3.67it/s, acc=0.759, xentropy=0.893]\n",
      "Epoch 22:   0%|          | 1/391 [00:00<01:03,  6.10it/s, acc=0.867, xentropy=0.467]"
     ]
    },
    {
     "name": "stdout",
     "output_type": "stream",
     "text": [
      "test_acc: 0.711\n",
      "\n",
      "Epoch: 22\n"
     ]
    },
    {
     "name": "stderr",
     "output_type": "stream",
     "text": [
      "Epoch 22: 100%|██████████| 391/391 [01:46<00:00,  3.67it/s, acc=0.811, xentropy=0.667]\n",
      "Epoch 23:   0%|          | 1/391 [00:00<01:00,  6.41it/s, acc=0.859, xentropy=0.494]"
     ]
    },
    {
     "name": "stdout",
     "output_type": "stream",
     "text": [
      "test_acc: 0.715\n",
      "\n",
      "Epoch: 23\n"
     ]
    },
    {
     "name": "stderr",
     "output_type": "stream",
     "text": [
      "Epoch 23: 100%|██████████| 391/391 [01:46<00:00,  3.68it/s, acc=0.804, xentropy=0.739]\n",
      "Epoch 24:   0%|          | 1/391 [00:00<01:04,  6.07it/s, acc=0.859, xentropy=0.529]"
     ]
    },
    {
     "name": "stdout",
     "output_type": "stream",
     "text": [
      "test_acc: 0.717\n",
      "\n",
      "Epoch: 24\n"
     ]
    },
    {
     "name": "stderr",
     "output_type": "stream",
     "text": [
      "Epoch 24: 100%|██████████| 391/391 [01:46<00:00,  3.67it/s, acc=0.805, xentropy=0.762]\n",
      "Epoch 25:   0%|          | 1/391 [00:00<01:03,  6.11it/s, acc=0.852, xentropy=0.489]"
     ]
    },
    {
     "name": "stdout",
     "output_type": "stream",
     "text": [
      "test_acc: 0.717\n",
      "\n",
      "Epoch: 25\n"
     ]
    },
    {
     "name": "stderr",
     "output_type": "stream",
     "text": [
      "Epoch 25: 100%|██████████| 391/391 [01:46<00:00,  3.68it/s, acc=0.837, xentropy=0.625]\n",
      "Epoch 26:   0%|          | 1/391 [00:00<01:05,  5.92it/s, acc=0.906, xentropy=0.389]"
     ]
    },
    {
     "name": "stdout",
     "output_type": "stream",
     "text": [
      "test_acc: 0.712\n",
      "\n",
      "Epoch: 26\n"
     ]
    },
    {
     "name": "stderr",
     "output_type": "stream",
     "text": [
      "Epoch 26: 100%|██████████| 391/391 [01:46<00:00,  3.68it/s, acc=0.827, xentropy=0.659]\n",
      "Epoch 27:   0%|          | 1/391 [00:00<01:03,  6.13it/s, acc=0.914, xentropy=0.335]"
     ]
    },
    {
     "name": "stdout",
     "output_type": "stream",
     "text": [
      "test_acc: 0.706\n",
      "\n",
      "Epoch: 27\n"
     ]
    },
    {
     "name": "stderr",
     "output_type": "stream",
     "text": [
      "Epoch 27: 100%|██████████| 391/391 [01:46<00:00,  3.68it/s, acc=0.851, xentropy=0.570]\n",
      "Epoch 28:   0%|          | 1/391 [00:00<01:05,  5.99it/s, acc=0.961, xentropy=0.265]"
     ]
    },
    {
     "name": "stdout",
     "output_type": "stream",
     "text": [
      "test_acc: 0.706\n",
      "\n",
      "Epoch: 28\n"
     ]
    },
    {
     "name": "stderr",
     "output_type": "stream",
     "text": [
      "Epoch 28: 100%|██████████| 391/391 [01:46<00:00,  3.68it/s, acc=0.835, xentropy=0.649]\n",
      "Epoch 29:   0%|          | 1/391 [00:00<01:05,  5.99it/s, acc=0.953, xentropy=0.263]"
     ]
    },
    {
     "name": "stdout",
     "output_type": "stream",
     "text": [
      "test_acc: 0.703\n",
      "\n",
      "Epoch: 29\n"
     ]
    },
    {
     "name": "stderr",
     "output_type": "stream",
     "text": [
      "Epoch 29: 100%|██████████| 391/391 [01:46<00:00,  3.68it/s, acc=0.844, xentropy=0.622]\n",
      "Epoch 30:   0%|          | 1/391 [00:00<01:00,  6.42it/s, acc=0.359, xentropy=3.177]"
     ]
    },
    {
     "name": "stdout",
     "output_type": "stream",
     "text": [
      "test_acc: 0.704\n",
      "\n",
      "Epoch: 30\n"
     ]
    },
    {
     "name": "stderr",
     "output_type": "stream",
     "text": [
      "Epoch 30: 100%|██████████| 391/391 [01:46<00:00,  3.68it/s, acc=0.857, xentropy=0.553]\n",
      "Epoch 31:   0%|          | 1/391 [00:00<01:00,  6.48it/s, acc=0.930, xentropy=0.343]"
     ]
    },
    {
     "name": "stdout",
     "output_type": "stream",
     "text": [
      "test_acc: 0.686\n",
      "\n",
      "Epoch: 31\n"
     ]
    },
    {
     "name": "stderr",
     "output_type": "stream",
     "text": [
      "Epoch 31: 100%|██████████| 391/391 [01:46<00:00,  3.68it/s, acc=0.874, xentropy=0.474]\n",
      "Epoch 32:   0%|          | 1/391 [00:00<01:04,  6.08it/s, acc=0.516, xentropy=3.350]"
     ]
    },
    {
     "name": "stdout",
     "output_type": "stream",
     "text": [
      "test_acc: 0.699\n",
      "\n",
      "Epoch: 32\n"
     ]
    },
    {
     "name": "stderr",
     "output_type": "stream",
     "text": [
      "Epoch 32: 100%|██████████| 391/391 [01:46<00:00,  3.68it/s, acc=0.853, xentropy=0.569]\n",
      "Epoch 33:   0%|          | 1/391 [00:00<01:00,  6.40it/s, acc=0.953, xentropy=0.215]"
     ]
    },
    {
     "name": "stdout",
     "output_type": "stream",
     "text": [
      "test_acc: 0.704\n",
      "\n",
      "Epoch: 33\n"
     ]
    },
    {
     "name": "stderr",
     "output_type": "stream",
     "text": [
      "Epoch 33: 100%|██████████| 391/391 [01:46<00:00,  3.67it/s, acc=0.867, xentropy=0.513]\n",
      "Epoch 34:   0%|          | 1/391 [00:00<01:00,  6.42it/s, acc=0.930, xentropy=0.307]"
     ]
    },
    {
     "name": "stdout",
     "output_type": "stream",
     "text": [
      "test_acc: 0.671\n",
      "\n",
      "Epoch: 34\n"
     ]
    },
    {
     "name": "stderr",
     "output_type": "stream",
     "text": [
      "Epoch 34: 100%|██████████| 391/391 [01:46<00:00,  3.67it/s, acc=0.873, xentropy=0.469]\n",
      "Epoch 35:   0%|          | 1/391 [00:00<01:01,  6.37it/s, acc=0.938, xentropy=0.268]"
     ]
    },
    {
     "name": "stdout",
     "output_type": "stream",
     "text": [
      "test_acc: 0.692\n",
      "\n",
      "Epoch: 35\n"
     ]
    },
    {
     "name": "stderr",
     "output_type": "stream",
     "text": [
      "Epoch 35: 100%|██████████| 391/391 [01:46<00:00,  3.67it/s, acc=0.871, xentropy=0.505]\n",
      "Epoch 36:   0%|          | 1/391 [00:00<01:01,  6.37it/s, acc=0.891, xentropy=0.383]"
     ]
    },
    {
     "name": "stdout",
     "output_type": "stream",
     "text": [
      "test_acc: 0.681\n",
      "\n",
      "Epoch: 36\n"
     ]
    },
    {
     "name": "stderr",
     "output_type": "stream",
     "text": [
      "Epoch 36: 100%|██████████| 391/391 [01:46<00:00,  3.67it/s, acc=0.891, xentropy=0.410]\n",
      "Epoch 37:   0%|          | 1/391 [00:00<01:01,  6.39it/s, acc=0.891, xentropy=0.346]"
     ]
    },
    {
     "name": "stdout",
     "output_type": "stream",
     "text": [
      "test_acc: 0.685\n",
      "\n",
      "Epoch: 37\n"
     ]
    },
    {
     "name": "stderr",
     "output_type": "stream",
     "text": [
      "Epoch 37: 100%|██████████| 391/391 [01:46<00:00,  3.67it/s, acc=0.881, xentropy=0.449]\n",
      "Epoch 38:   0%|          | 1/391 [00:00<00:59,  6.51it/s, acc=0.914, xentropy=0.317]"
     ]
    },
    {
     "name": "stdout",
     "output_type": "stream",
     "text": [
      "test_acc: 0.674\n",
      "\n",
      "Epoch: 38\n"
     ]
    },
    {
     "name": "stderr",
     "output_type": "stream",
     "text": [
      "Epoch 38: 100%|██████████| 391/391 [01:46<00:00,  3.67it/s, acc=0.870, xentropy=0.497]\n",
      "Epoch 39:   0%|          | 1/391 [00:00<01:05,  5.99it/s, acc=0.922, xentropy=0.328]"
     ]
    },
    {
     "name": "stdout",
     "output_type": "stream",
     "text": [
      "test_acc: 0.673\n",
      "\n",
      "Epoch: 39\n"
     ]
    },
    {
     "name": "stderr",
     "output_type": "stream",
     "text": [
      "Epoch 39: 100%|██████████| 391/391 [01:46<00:00,  3.67it/s, acc=0.863, xentropy=0.550]\n",
      "Epoch 40:   0%|          | 1/391 [00:00<01:04,  6.01it/s, acc=0.922, xentropy=0.241]"
     ]
    },
    {
     "name": "stdout",
     "output_type": "stream",
     "text": [
      "test_acc: 0.684\n",
      "\n",
      "Epoch: 40\n"
     ]
    },
    {
     "name": "stderr",
     "output_type": "stream",
     "text": [
      "Epoch 40: 100%|██████████| 391/391 [01:46<00:00,  3.67it/s, acc=0.858, xentropy=0.585]\n",
      "Epoch 41:   0%|          | 1/391 [00:00<01:04,  6.07it/s, acc=0.953, xentropy=0.204]"
     ]
    },
    {
     "name": "stdout",
     "output_type": "stream",
     "text": [
      "test_acc: 0.664\n",
      "\n",
      "Epoch: 41\n"
     ]
    },
    {
     "name": "stderr",
     "output_type": "stream",
     "text": [
      "Epoch 41: 100%|██████████| 391/391 [01:46<00:00,  3.67it/s, acc=0.923, xentropy=0.350]\n",
      "Epoch 42:   0%|          | 1/391 [00:00<01:03,  6.11it/s, acc=0.977, xentropy=0.125]"
     ]
    },
    {
     "name": "stdout",
     "output_type": "stream",
     "text": [
      "test_acc: 0.744\n",
      "\n",
      "Epoch: 42\n"
     ]
    },
    {
     "name": "stderr",
     "output_type": "stream",
     "text": [
      "Epoch 42: 100%|██████████| 391/391 [01:46<00:00,  3.67it/s, acc=0.947, xentropy=0.280]\n",
      "Epoch 43:   0%|          | 1/391 [00:00<01:01,  6.30it/s, acc=0.992, xentropy=0.064]"
     ]
    },
    {
     "name": "stdout",
     "output_type": "stream",
     "text": [
      "test_acc: 0.746\n",
      "\n",
      "Epoch: 43\n"
     ]
    },
    {
     "name": "stderr",
     "output_type": "stream",
     "text": [
      "Epoch 43: 100%|██████████| 391/391 [01:46<00:00,  3.68it/s, acc=0.956, xentropy=0.235]\n",
      "Epoch 44:   0%|          | 1/391 [00:00<01:01,  6.39it/s, acc=0.992, xentropy=0.085]"
     ]
    },
    {
     "name": "stdout",
     "output_type": "stream",
     "text": [
      "test_acc: 0.747\n",
      "\n",
      "Epoch: 44\n"
     ]
    },
    {
     "name": "stderr",
     "output_type": "stream",
     "text": [
      "Epoch 44: 100%|██████████| 391/391 [01:46<00:00,  3.67it/s, acc=0.948, xentropy=0.261]\n",
      "Epoch 45:   0%|          | 1/391 [00:00<01:00,  6.44it/s, acc=1.000, xentropy=0.082]"
     ]
    },
    {
     "name": "stdout",
     "output_type": "stream",
     "text": [
      "test_acc: 0.748\n",
      "\n",
      "Epoch: 45\n"
     ]
    },
    {
     "name": "stderr",
     "output_type": "stream",
     "text": [
      "Epoch 45: 100%|██████████| 391/391 [01:46<00:00,  3.67it/s, acc=0.949, xentropy=0.270]\n",
      "Epoch 46:   0%|          | 1/391 [00:00<01:01,  6.37it/s, acc=0.992, xentropy=0.068]"
     ]
    },
    {
     "name": "stdout",
     "output_type": "stream",
     "text": [
      "test_acc: 0.750\n",
      "\n",
      "Epoch: 46\n"
     ]
    },
    {
     "name": "stderr",
     "output_type": "stream",
     "text": [
      "Epoch 46: 100%|██████████| 391/391 [01:46<00:00,  3.68it/s, acc=0.960, xentropy=0.226]\n",
      "Epoch 47:   0%|          | 1/391 [00:00<00:59,  6.51it/s, acc=0.992, xentropy=0.047]"
     ]
    },
    {
     "name": "stdout",
     "output_type": "stream",
     "text": [
      "test_acc: 0.752\n",
      "\n",
      "Epoch: 47\n"
     ]
    },
    {
     "name": "stderr",
     "output_type": "stream",
     "text": [
      "Epoch 47: 100%|██████████| 391/391 [01:46<00:00,  3.67it/s, acc=0.966, xentropy=0.171]\n",
      "Epoch 48:   0%|          | 1/391 [00:00<01:01,  6.39it/s, acc=1.000, xentropy=0.051]"
     ]
    },
    {
     "name": "stdout",
     "output_type": "stream",
     "text": [
      "test_acc: 0.753\n",
      "\n",
      "Epoch: 48\n"
     ]
    },
    {
     "name": "stderr",
     "output_type": "stream",
     "text": [
      "Epoch 48: 100%|██████████| 391/391 [01:46<00:00,  3.67it/s, acc=0.938, xentropy=0.289]\n",
      "Epoch 49:   0%|          | 1/391 [00:00<01:00,  6.48it/s, acc=0.992, xentropy=0.050]"
     ]
    },
    {
     "name": "stdout",
     "output_type": "stream",
     "text": [
      "test_acc: 0.755\n",
      "\n",
      "Epoch: 49\n"
     ]
    },
    {
     "name": "stderr",
     "output_type": "stream",
     "text": [
      "Epoch 49: 100%|██████████| 391/391 [01:46<00:00,  3.67it/s, acc=0.963, xentropy=0.205]\n",
      "Epoch 50:   0%|          | 1/391 [00:00<01:01,  6.29it/s, acc=0.992, xentropy=0.043]"
     ]
    },
    {
     "name": "stdout",
     "output_type": "stream",
     "text": [
      "test_acc: 0.754\n",
      "\n",
      "Epoch: 50\n"
     ]
    },
    {
     "name": "stderr",
     "output_type": "stream",
     "text": [
      "Epoch 50: 100%|██████████| 391/391 [01:46<00:00,  3.67it/s, acc=0.959, xentropy=0.241]\n"
     ]
    },
    {
     "name": "stdout",
     "output_type": "stream",
     "text": [
      "test_acc: 0.750\n"
     ]
    }
   ],
   "source": [
    "# 定义参数\n",
    "args = {\"method\": 'cutmix',  # ['baseline', 'cutmix', 'cutout', 'mixup']\n",
    "      \"dataset\": 'cifar100',  # ['cifar10', 'cifar100']\n",
    "      \"model\": 'resnet18',  # ['resnet18]\n",
    "      \"batch_size\" : 128,  # [32, 64, 128] 固定为128进行训练\n",
    "      \"epochs\" : 50,     # 固定为50进行训练\n",
    "      \"learning_rate\": 0.1, # \n",
    "      \"data_augmentation\": True, # 数据增强，默认为True\n",
    "      \"no_cuda\": False, # 是否使用GPU\n",
    "      \"seed\": 0, \n",
    "      \"n_holes\": 1,\n",
    "      \"length\": 16,\n",
    "      \"alpha\": 0.2,\n",
    "      \"cutmix_prob\": 0.1\n",
    "}\n",
    "\n",
    "if args['method'] == 'cutout':\n",
    "    train = train_cutout\n",
    "elif args['method'] == 'mixup':\n",
    "    train = train_mixup\n",
    "elif args['method'] == 'cutmix':\n",
    "    train = train_cutmix\n",
    "elif args['method'] == 'baseline':\n",
    "    train = train_cutout\n",
    "else:\n",
    "    raise Exception('unknown method: {}'.format(args['method']))\n",
    "\n",
    "args['cuda'] = not args['no_cuda'] and torch.cuda.is_available()\n",
    "cudnn.benchmark = True\n",
    "\n",
    "torch.manual_seed(args['seed'])\n",
    "if args['cuda']:\n",
    "    torch.cuda.manual_seed(args['seed'])\n",
    "\n",
    "# 归一化\n",
    "normalize = transforms.Normalize(mean=[x/255.0 for x in [125.3, 123.0, 113.9]],\n",
    "                  std=[x/255.0 for x in [63.0, 62.1, 66.7]])\n",
    "\n",
    "# 训练集预处理\n",
    "train_transform = transforms.Compose([])\n",
    "if args['data_augmentation']:\n",
    "    train_transform.transforms.append(transforms.RandomCrop(32, padding=4))\n",
    "    train_transform.transforms.append(transforms.RandomHorizontalFlip())\n",
    "train_transform.transforms.append(transforms.ToTensor())\n",
    "train_transform.transforms.append(normalize)\n",
    "if args['method'] == 'cutout':\n",
    "    train_transform.transforms.append(Cutout(n_holes=args['n_holes'], length=args['length']))\n",
    "\n",
    "# 测试集预处理\n",
    "test_transform = transforms.Compose([\n",
    "    transforms.ToTensor(),\n",
    "    normalize])\n",
    "\n",
    "# 数据集选择\n",
    "if args['dataset'] == 'cifar10':\n",
    "    num_classes = 10\n",
    "    train_dataset = datasets.CIFAR10(root='./data/',\n",
    "                    train=True,\n",
    "                    transform=train_transform,\n",
    "                    download=True)\n",
    "    test_dataset = datasets.CIFAR10(root='./data/',\n",
    "                   train=False,\n",
    "                   transform=test_transform,\n",
    "                   download=True)\n",
    "elif args['dataset'] == 'cifar100':\n",
    "    num_classes = 100\n",
    "    train_dataset = datasets.CIFAR100(root='./data/',\n",
    "                    train=True,\n",
    "                    transform=train_transform,\n",
    "                    download=True)\n",
    "    test_dataset = datasets.CIFAR100(root='./data/',\n",
    "                   train=False,\n",
    "                   transform=test_transform,\n",
    "                   download=True)\n",
    "else:\n",
    "    raise Exception('unknown dataset: {}'.format(args['dataset']))\n",
    "\n",
    "# 定义Data Loader\n",
    "train_loader = torch.utils.data.DataLoader(dataset=train_dataset,\n",
    "                       batch_size=args['batch_size'],\n",
    "                       shuffle=True,\n",
    "                       pin_memory=True)\n",
    "\n",
    "test_loader = torch.utils.data.DataLoader(dataset=test_dataset,\n",
    "                      batch_size=args['batch_size'],\n",
    "                      shuffle=False,\n",
    "                      pin_memory=True)\n",
    "\n",
    "# 选择训练模型\n",
    "if args['model'] == 'resnet18':\n",
    "    model = ResNet18(num_classes=num_classes)\n",
    "else:\n",
    "    raise Exception('unknown model: {}'.format(args['model']))\n",
    "\n",
    "if args['cuda']:\n",
    "    model = model.cuda()\n",
    "\n",
    "# 定义损失函数\n",
    "if args['cuda']:\n",
    "    criterion = nn.CrossEntropyLoss().cuda()\n",
    "else:\n",
    "    criterion = nn.CrossEntropyLoss()\n",
    "\n",
    "# 定义优化器\n",
    "optimizer = torch.optim.SGD(model.parameters(), lr=args['learning_rate'],\n",
    "                momentum=0.9, nesterov=True, weight_decay=5e-4)\n",
    "\n",
    "# 定义学习率优化\n",
    "scheduler = MultiStepLR(optimizer, milestones=[20, 40], gamma=0.2)\n",
    "\n",
    "# 获取存储名\n",
    "test_id = args['dataset'] + '_' + args['model'] + '_' + args['method']\n",
    "if not args['data_augmentation']:\n",
    "    test_id += '_noaugment'\n",
    "\n",
    "# 数据储存到csv文件\n",
    "try:\n",
    "    os.makedirs('./runs')\n",
    "except:\n",
    "    pass\n",
    "filename = './runs/' + test_id + '.csv'\n",
    "csv_logger = CSVLogger(args=args, fieldnames=['epoch', 'train_loss', 'train_acc', 'test_acc']\n",
    "                       , filename=filename)\n",
    "\n",
    "# 训练模型过程\n",
    "writer = SummaryWriter('./runs/train_cutmix') # 使用tensorboard进行可视化\n",
    "for epoch in range(1, args['epochs'] + 1):\n",
    "    train_loss, train_acc = train(epoch)\n",
    "    test_acc = test()\n",
    "    tqdm.write('test_acc: %.3f' % test_acc)\n",
    "    scheduler.step()\n",
    "    row = {'epoch': str(epoch), 'train_loss':str(train_loss), 'train_acc': str(train_acc), 'test_acc': str(test_acc)}\n",
    "    csv_logger.writerow(row)\n",
    "    writer.add_scalar('train_loss', train_loss, global_step=epoch)\n",
    "    writer.add_scalar('train_acc', train_acc, global_step=epoch)\n",
    "    writer.add_scalar('test_acc', test_acc, global_step=epoch)\n",
    "writer.close()\n",
    "\n",
    "# 保存模型\n",
    "try:\n",
    "    os.makedirs('./checkpoints')\n",
    "except:\n",
    "    pass\n",
    "\n",
    "torch.save(model.state_dict(), './checkpoints/' + test_id + '.pth')\n",
    "\n",
    "csv_logger.close()"
   ]
  },
  {
   "cell_type": "markdown",
   "metadata": {},
   "source": [
    "cutout方法"
   ]
  },
  {
   "cell_type": "code",
   "execution_count": 12,
   "metadata": {},
   "outputs": [
    {
     "name": "stdout",
     "output_type": "stream",
     "text": [
      "Files already downloaded and verified\n",
      "Files already downloaded and verified\n"
     ]
    },
    {
     "name": "stderr",
     "output_type": "stream",
     "text": [
      "Epoch 1:   0%|          | 0/391 [00:00<?, ?it/s]"
     ]
    },
    {
     "name": "stdout",
     "output_type": "stream",
     "text": [
      "\n",
      "Epoch: 1\n"
     ]
    },
    {
     "name": "stderr",
     "output_type": "stream",
     "text": [
      "Epoch 1: 100%|██████████| 391/391 [02:20<00:00,  2.79it/s, acc=0.089, xentropy=3.957]\n",
      "Epoch 2:   0%|          | 0/391 [00:00<?, ?it/s]"
     ]
    },
    {
     "name": "stdout",
     "output_type": "stream",
     "text": [
      "test_acc: 0.150\n",
      "\n",
      "Epoch: 2\n"
     ]
    },
    {
     "name": "stderr",
     "output_type": "stream",
     "text": [
      "Epoch 2: 100%|██████████| 391/391 [02:20<00:00,  2.78it/s, acc=0.175, xentropy=3.390]\n",
      "Epoch 3:   0%|          | 0/391 [00:00<?, ?it/s]"
     ]
    },
    {
     "name": "stdout",
     "output_type": "stream",
     "text": [
      "test_acc: 0.203\n",
      "\n",
      "Epoch: 3\n"
     ]
    },
    {
     "name": "stderr",
     "output_type": "stream",
     "text": [
      "Epoch 3: 100%|██████████| 391/391 [02:20<00:00,  2.78it/s, acc=0.249, xentropy=2.973]\n",
      "Epoch 4:   0%|          | 0/391 [00:00<?, ?it/s]"
     ]
    },
    {
     "name": "stdout",
     "output_type": "stream",
     "text": [
      "test_acc: 0.285\n",
      "\n",
      "Epoch: 4\n"
     ]
    },
    {
     "name": "stderr",
     "output_type": "stream",
     "text": [
      "Epoch 4: 100%|██████████| 391/391 [02:20<00:00,  2.78it/s, acc=0.318, xentropy=2.621]\n",
      "Epoch 5:   0%|          | 0/391 [00:00<?, ?it/s]"
     ]
    },
    {
     "name": "stdout",
     "output_type": "stream",
     "text": [
      "test_acc: 0.361\n",
      "\n",
      "Epoch: 5\n"
     ]
    },
    {
     "name": "stderr",
     "output_type": "stream",
     "text": [
      "Epoch 5: 100%|██████████| 391/391 [02:20<00:00,  2.78it/s, acc=0.376, xentropy=2.352]\n",
      "Epoch 6:   0%|          | 0/391 [00:00<?, ?it/s]"
     ]
    },
    {
     "name": "stdout",
     "output_type": "stream",
     "text": [
      "test_acc: 0.395\n",
      "\n",
      "Epoch: 6\n"
     ]
    },
    {
     "name": "stderr",
     "output_type": "stream",
     "text": [
      "Epoch 6: 100%|██████████| 391/391 [02:20<00:00,  2.78it/s, acc=0.419, xentropy=2.164]\n",
      "Epoch 7:   0%|          | 0/391 [00:00<?, ?it/s]"
     ]
    },
    {
     "name": "stdout",
     "output_type": "stream",
     "text": [
      "test_acc: 0.441\n",
      "\n",
      "Epoch: 7\n"
     ]
    },
    {
     "name": "stderr",
     "output_type": "stream",
     "text": [
      "Epoch 7: 100%|██████████| 391/391 [02:20<00:00,  2.78it/s, acc=0.445, xentropy=2.037]\n",
      "Epoch 8:   0%|          | 0/391 [00:00<?, ?it/s]"
     ]
    },
    {
     "name": "stdout",
     "output_type": "stream",
     "text": [
      "test_acc: 0.452\n",
      "\n",
      "Epoch: 8\n"
     ]
    },
    {
     "name": "stderr",
     "output_type": "stream",
     "text": [
      "Epoch 8: 100%|██████████| 391/391 [02:21<00:00,  2.76it/s, acc=0.473, xentropy=1.925]\n",
      "Epoch 9:   0%|          | 0/391 [00:00<?, ?it/s]"
     ]
    },
    {
     "name": "stdout",
     "output_type": "stream",
     "text": [
      "test_acc: 0.448\n",
      "\n",
      "Epoch: 9\n"
     ]
    },
    {
     "name": "stderr",
     "output_type": "stream",
     "text": [
      "Epoch 9: 100%|██████████| 391/391 [02:20<00:00,  2.78it/s, acc=0.485, xentropy=1.872]\n",
      "Epoch 10:   0%|          | 0/391 [00:00<?, ?it/s]"
     ]
    },
    {
     "name": "stdout",
     "output_type": "stream",
     "text": [
      "test_acc: 0.492\n",
      "\n",
      "Epoch: 10\n"
     ]
    },
    {
     "name": "stderr",
     "output_type": "stream",
     "text": [
      "Epoch 10: 100%|██████████| 391/391 [02:20<00:00,  2.79it/s, acc=0.503, xentropy=1.791]\n",
      "Epoch 11:   0%|          | 0/391 [00:00<?, ?it/s]"
     ]
    },
    {
     "name": "stdout",
     "output_type": "stream",
     "text": [
      "test_acc: 0.494\n",
      "\n",
      "Epoch: 11\n"
     ]
    },
    {
     "name": "stderr",
     "output_type": "stream",
     "text": [
      "Epoch 11: 100%|██████████| 391/391 [02:20<00:00,  2.78it/s, acc=0.517, xentropy=1.748]\n",
      "Epoch 12:   0%|          | 0/391 [00:00<?, ?it/s]"
     ]
    },
    {
     "name": "stdout",
     "output_type": "stream",
     "text": [
      "test_acc: 0.520\n",
      "\n",
      "Epoch: 12\n"
     ]
    },
    {
     "name": "stderr",
     "output_type": "stream",
     "text": [
      "Epoch 12: 100%|██████████| 391/391 [02:21<00:00,  2.77it/s, acc=0.530, xentropy=1.696]\n",
      "Epoch 13:   0%|          | 0/391 [00:00<?, ?it/s]"
     ]
    },
    {
     "name": "stdout",
     "output_type": "stream",
     "text": [
      "test_acc: 0.528\n",
      "\n",
      "Epoch: 13\n"
     ]
    },
    {
     "name": "stderr",
     "output_type": "stream",
     "text": [
      "Epoch 13: 100%|██████████| 391/391 [02:21<00:00,  2.76it/s, acc=0.534, xentropy=1.668]\n",
      "Epoch 14:   0%|          | 0/391 [00:00<?, ?it/s]"
     ]
    },
    {
     "name": "stdout",
     "output_type": "stream",
     "text": [
      "test_acc: 0.492\n",
      "\n",
      "Epoch: 14\n"
     ]
    },
    {
     "name": "stderr",
     "output_type": "stream",
     "text": [
      "Epoch 14: 100%|██████████| 391/391 [02:22<00:00,  2.75it/s, acc=0.544, xentropy=1.638]\n",
      "Epoch 15:   0%|          | 0/391 [00:00<?, ?it/s]"
     ]
    },
    {
     "name": "stdout",
     "output_type": "stream",
     "text": [
      "test_acc: 0.511\n",
      "\n",
      "Epoch: 15\n"
     ]
    },
    {
     "name": "stderr",
     "output_type": "stream",
     "text": [
      "Epoch 15: 100%|██████████| 391/391 [02:21<00:00,  2.77it/s, acc=0.546, xentropy=1.620]\n",
      "Epoch 16:   0%|          | 0/391 [00:00<?, ?it/s]"
     ]
    },
    {
     "name": "stdout",
     "output_type": "stream",
     "text": [
      "test_acc: 0.502\n",
      "\n",
      "Epoch: 16\n"
     ]
    },
    {
     "name": "stderr",
     "output_type": "stream",
     "text": [
      "Epoch 16: 100%|██████████| 391/391 [02:21<00:00,  2.77it/s, acc=0.554, xentropy=1.596]\n",
      "Epoch 17:   0%|          | 0/391 [00:00<?, ?it/s]"
     ]
    },
    {
     "name": "stdout",
     "output_type": "stream",
     "text": [
      "test_acc: 0.557\n",
      "\n",
      "Epoch: 17\n"
     ]
    },
    {
     "name": "stderr",
     "output_type": "stream",
     "text": [
      "Epoch 17: 100%|██████████| 391/391 [02:20<00:00,  2.79it/s, acc=0.559, xentropy=1.576]\n",
      "Epoch 18:   0%|          | 0/391 [00:00<?, ?it/s]"
     ]
    },
    {
     "name": "stdout",
     "output_type": "stream",
     "text": [
      "test_acc: 0.523\n",
      "\n",
      "Epoch: 18\n"
     ]
    },
    {
     "name": "stderr",
     "output_type": "stream",
     "text": [
      "Epoch 18: 100%|██████████| 391/391 [02:20<00:00,  2.78it/s, acc=0.568, xentropy=1.544]\n",
      "Epoch 19:   0%|          | 0/391 [00:00<?, ?it/s]"
     ]
    },
    {
     "name": "stdout",
     "output_type": "stream",
     "text": [
      "test_acc: 0.490\n",
      "\n",
      "Epoch: 19\n"
     ]
    },
    {
     "name": "stderr",
     "output_type": "stream",
     "text": [
      "Epoch 19: 100%|██████████| 391/391 [02:19<00:00,  2.80it/s, acc=0.571, xentropy=1.540]\n",
      "Epoch 20:   0%|          | 0/391 [00:00<?, ?it/s]"
     ]
    },
    {
     "name": "stdout",
     "output_type": "stream",
     "text": [
      "test_acc: 0.544\n",
      "\n",
      "Epoch: 20\n"
     ]
    },
    {
     "name": "stderr",
     "output_type": "stream",
     "text": [
      "Epoch 20: 100%|██████████| 391/391 [02:20<00:00,  2.78it/s, acc=0.571, xentropy=1.528]\n",
      "Epoch 21:   0%|          | 0/391 [00:00<?, ?it/s]"
     ]
    },
    {
     "name": "stdout",
     "output_type": "stream",
     "text": [
      "test_acc: 0.501\n",
      "\n",
      "Epoch: 21\n"
     ]
    },
    {
     "name": "stderr",
     "output_type": "stream",
     "text": [
      "Epoch 21: 100%|██████████| 391/391 [02:19<00:00,  2.79it/s, acc=0.682, xentropy=1.100]\n",
      "Epoch 22:   0%|          | 0/391 [00:00<?, ?it/s]"
     ]
    },
    {
     "name": "stdout",
     "output_type": "stream",
     "text": [
      "test_acc: 0.697\n",
      "\n",
      "Epoch: 22\n"
     ]
    },
    {
     "name": "stderr",
     "output_type": "stream",
     "text": [
      "Epoch 22: 100%|██████████| 391/391 [02:20<00:00,  2.78it/s, acc=0.714, xentropy=0.978]\n",
      "Epoch 23:   0%|          | 0/391 [00:00<?, ?it/s]"
     ]
    },
    {
     "name": "stdout",
     "output_type": "stream",
     "text": [
      "test_acc: 0.703\n",
      "\n",
      "Epoch: 23\n"
     ]
    },
    {
     "name": "stderr",
     "output_type": "stream",
     "text": [
      "Epoch 23: 100%|██████████| 391/391 [02:20<00:00,  2.79it/s, acc=0.727, xentropy=0.928]\n",
      "Epoch 24:   0%|          | 0/391 [00:00<?, ?it/s]"
     ]
    },
    {
     "name": "stdout",
     "output_type": "stream",
     "text": [
      "test_acc: 0.701\n",
      "\n",
      "Epoch: 24\n"
     ]
    },
    {
     "name": "stderr",
     "output_type": "stream",
     "text": [
      "Epoch 24: 100%|██████████| 391/391 [02:20<00:00,  2.78it/s, acc=0.735, xentropy=0.889]\n",
      "Epoch 25:   0%|          | 0/391 [00:00<?, ?it/s]"
     ]
    },
    {
     "name": "stdout",
     "output_type": "stream",
     "text": [
      "test_acc: 0.705\n",
      "\n",
      "Epoch: 25\n"
     ]
    },
    {
     "name": "stderr",
     "output_type": "stream",
     "text": [
      "Epoch 25: 100%|██████████| 391/391 [02:20<00:00,  2.78it/s, acc=0.747, xentropy=0.854]\n",
      "Epoch 26:   0%|          | 0/391 [00:00<?, ?it/s]"
     ]
    },
    {
     "name": "stdout",
     "output_type": "stream",
     "text": [
      "test_acc: 0.705\n",
      "\n",
      "Epoch: 26\n"
     ]
    },
    {
     "name": "stderr",
     "output_type": "stream",
     "text": [
      "Epoch 26: 100%|██████████| 391/391 [02:20<00:00,  2.78it/s, acc=0.749, xentropy=0.838]\n",
      "Epoch 27:   0%|          | 0/391 [00:00<?, ?it/s]"
     ]
    },
    {
     "name": "stdout",
     "output_type": "stream",
     "text": [
      "test_acc: 0.699\n",
      "\n",
      "Epoch: 27\n"
     ]
    },
    {
     "name": "stderr",
     "output_type": "stream",
     "text": [
      "Epoch 27: 100%|██████████| 391/391 [02:20<00:00,  2.79it/s, acc=0.753, xentropy=0.828]\n",
      "Epoch 28:   0%|          | 0/391 [00:00<?, ?it/s]"
     ]
    },
    {
     "name": "stdout",
     "output_type": "stream",
     "text": [
      "test_acc: 0.707\n",
      "\n",
      "Epoch: 28\n"
     ]
    },
    {
     "name": "stderr",
     "output_type": "stream",
     "text": [
      "Epoch 28: 100%|██████████| 391/391 [02:20<00:00,  2.78it/s, acc=0.758, xentropy=0.812]\n",
      "Epoch 29:   0%|          | 0/391 [00:00<?, ?it/s]"
     ]
    },
    {
     "name": "stdout",
     "output_type": "stream",
     "text": [
      "test_acc: 0.703\n",
      "\n",
      "Epoch: 29\n"
     ]
    },
    {
     "name": "stderr",
     "output_type": "stream",
     "text": [
      "Epoch 29: 100%|██████████| 391/391 [02:20<00:00,  2.79it/s, acc=0.760, xentropy=0.801]\n",
      "Epoch 30:   0%|          | 0/391 [00:00<?, ?it/s]"
     ]
    },
    {
     "name": "stdout",
     "output_type": "stream",
     "text": [
      "test_acc: 0.685\n",
      "\n",
      "Epoch: 30\n"
     ]
    },
    {
     "name": "stderr",
     "output_type": "stream",
     "text": [
      "Epoch 30: 100%|██████████| 391/391 [02:20<00:00,  2.78it/s, acc=0.763, xentropy=0.789]\n",
      "Epoch 31:   0%|          | 0/391 [00:00<?, ?it/s]"
     ]
    },
    {
     "name": "stdout",
     "output_type": "stream",
     "text": [
      "test_acc: 0.683\n",
      "\n",
      "Epoch: 31\n"
     ]
    },
    {
     "name": "stderr",
     "output_type": "stream",
     "text": [
      "Epoch 31: 100%|██████████| 391/391 [02:20<00:00,  2.78it/s, acc=0.763, xentropy=0.793]\n",
      "Epoch 32:   0%|          | 0/391 [00:00<?, ?it/s]"
     ]
    },
    {
     "name": "stdout",
     "output_type": "stream",
     "text": [
      "test_acc: 0.683\n",
      "\n",
      "Epoch: 32\n"
     ]
    },
    {
     "name": "stderr",
     "output_type": "stream",
     "text": [
      "Epoch 32: 100%|██████████| 391/391 [02:20<00:00,  2.78it/s, acc=0.769, xentropy=0.766]\n",
      "Epoch 33:   0%|          | 0/391 [00:00<?, ?it/s]"
     ]
    },
    {
     "name": "stdout",
     "output_type": "stream",
     "text": [
      "test_acc: 0.685\n",
      "\n",
      "Epoch: 33\n"
     ]
    },
    {
     "name": "stderr",
     "output_type": "stream",
     "text": [
      "Epoch 33: 100%|██████████| 391/391 [02:20<00:00,  2.79it/s, acc=0.770, xentropy=0.766]\n",
      "Epoch 34:   0%|          | 0/391 [00:00<?, ?it/s]"
     ]
    },
    {
     "name": "stdout",
     "output_type": "stream",
     "text": [
      "test_acc: 0.693\n",
      "\n",
      "Epoch: 34\n"
     ]
    },
    {
     "name": "stderr",
     "output_type": "stream",
     "text": [
      "Epoch 34: 100%|██████████| 391/391 [02:20<00:00,  2.78it/s, acc=0.773, xentropy=0.758]\n",
      "Epoch 35:   0%|          | 0/391 [00:00<?, ?it/s]"
     ]
    },
    {
     "name": "stdout",
     "output_type": "stream",
     "text": [
      "test_acc: 0.687\n",
      "\n",
      "Epoch: 35\n"
     ]
    },
    {
     "name": "stderr",
     "output_type": "stream",
     "text": [
      "Epoch 35: 100%|██████████| 391/391 [02:20<00:00,  2.79it/s, acc=0.774, xentropy=0.748]\n",
      "Epoch 36:   0%|          | 0/391 [00:00<?, ?it/s]"
     ]
    },
    {
     "name": "stdout",
     "output_type": "stream",
     "text": [
      "test_acc: 0.685\n",
      "\n",
      "Epoch: 36\n"
     ]
    },
    {
     "name": "stderr",
     "output_type": "stream",
     "text": [
      "Epoch 36: 100%|██████████| 391/391 [02:20<00:00,  2.78it/s, acc=0.777, xentropy=0.752]\n",
      "Epoch 37:   0%|          | 0/391 [00:00<?, ?it/s]"
     ]
    },
    {
     "name": "stdout",
     "output_type": "stream",
     "text": [
      "test_acc: 0.682\n",
      "\n",
      "Epoch: 37\n"
     ]
    },
    {
     "name": "stderr",
     "output_type": "stream",
     "text": [
      "Epoch 37: 100%|██████████| 391/391 [02:20<00:00,  2.78it/s, acc=0.783, xentropy=0.727]\n",
      "Epoch 38:   0%|          | 0/391 [00:00<?, ?it/s]"
     ]
    },
    {
     "name": "stdout",
     "output_type": "stream",
     "text": [
      "test_acc: 0.671\n",
      "\n",
      "Epoch: 38\n"
     ]
    },
    {
     "name": "stderr",
     "output_type": "stream",
     "text": [
      "Epoch 38: 100%|██████████| 391/391 [02:21<00:00,  2.77it/s, acc=0.781, xentropy=0.724]\n",
      "Epoch 39:   0%|          | 0/391 [00:00<?, ?it/s]"
     ]
    },
    {
     "name": "stdout",
     "output_type": "stream",
     "text": [
      "test_acc: 0.686\n",
      "\n",
      "Epoch: 39\n"
     ]
    },
    {
     "name": "stderr",
     "output_type": "stream",
     "text": [
      "Epoch 39: 100%|██████████| 391/391 [02:20<00:00,  2.78it/s, acc=0.783, xentropy=0.722]\n",
      "Epoch 40:   0%|          | 0/391 [00:00<?, ?it/s]"
     ]
    },
    {
     "name": "stdout",
     "output_type": "stream",
     "text": [
      "test_acc: 0.693\n",
      "\n",
      "Epoch: 40\n"
     ]
    },
    {
     "name": "stderr",
     "output_type": "stream",
     "text": [
      "Epoch 40: 100%|██████████| 391/391 [02:20<00:00,  2.78it/s, acc=0.787, xentropy=0.708]\n",
      "Epoch 41:   0%|          | 0/391 [00:00<?, ?it/s]"
     ]
    },
    {
     "name": "stdout",
     "output_type": "stream",
     "text": [
      "test_acc: 0.695\n",
      "\n",
      "Epoch: 41\n"
     ]
    },
    {
     "name": "stderr",
     "output_type": "stream",
     "text": [
      "Epoch 41: 100%|██████████| 391/391 [02:20<00:00,  2.79it/s, acc=0.859, xentropy=0.477]\n",
      "Epoch 42:   0%|          | 0/391 [00:00<?, ?it/s]"
     ]
    },
    {
     "name": "stdout",
     "output_type": "stream",
     "text": [
      "test_acc: 0.748\n",
      "\n",
      "Epoch: 42\n"
     ]
    },
    {
     "name": "stderr",
     "output_type": "stream",
     "text": [
      "Epoch 42: 100%|██████████| 391/391 [02:20<00:00,  2.77it/s, acc=0.886, xentropy=0.400]\n",
      "Epoch 43:   0%|          | 0/391 [00:00<?, ?it/s]"
     ]
    },
    {
     "name": "stdout",
     "output_type": "stream",
     "text": [
      "test_acc: 0.752\n",
      "\n",
      "Epoch: 43\n"
     ]
    },
    {
     "name": "stderr",
     "output_type": "stream",
     "text": [
      "Epoch 43: 100%|██████████| 391/391 [02:20<00:00,  2.78it/s, acc=0.896, xentropy=0.359]\n",
      "Epoch 44:   0%|          | 0/391 [00:00<?, ?it/s]"
     ]
    },
    {
     "name": "stdout",
     "output_type": "stream",
     "text": [
      "test_acc: 0.753\n",
      "\n",
      "Epoch: 44\n"
     ]
    },
    {
     "name": "stderr",
     "output_type": "stream",
     "text": [
      "Epoch 44: 100%|██████████| 391/391 [02:21<00:00,  2.77it/s, acc=0.903, xentropy=0.337]\n",
      "Epoch 45:   0%|          | 0/391 [00:00<?, ?it/s]"
     ]
    },
    {
     "name": "stdout",
     "output_type": "stream",
     "text": [
      "test_acc: 0.753\n",
      "\n",
      "Epoch: 45\n"
     ]
    },
    {
     "name": "stderr",
     "output_type": "stream",
     "text": [
      "Epoch 45: 100%|██████████| 391/391 [02:20<00:00,  2.78it/s, acc=0.908, xentropy=0.323]\n",
      "Epoch 46:   0%|          | 0/391 [00:00<?, ?it/s]"
     ]
    },
    {
     "name": "stdout",
     "output_type": "stream",
     "text": [
      "test_acc: 0.753\n",
      "\n",
      "Epoch: 46\n"
     ]
    },
    {
     "name": "stderr",
     "output_type": "stream",
     "text": [
      "Epoch 46: 100%|██████████| 391/391 [02:21<00:00,  2.77it/s, acc=0.913, xentropy=0.309]\n",
      "Epoch 47:   0%|          | 0/391 [00:00<?, ?it/s]"
     ]
    },
    {
     "name": "stdout",
     "output_type": "stream",
     "text": [
      "test_acc: 0.755\n",
      "\n",
      "Epoch: 47\n"
     ]
    },
    {
     "name": "stderr",
     "output_type": "stream",
     "text": [
      "Epoch 47: 100%|██████████| 391/391 [02:20<00:00,  2.78it/s, acc=0.918, xentropy=0.290]\n",
      "Epoch 48:   0%|          | 0/391 [00:00<?, ?it/s]"
     ]
    },
    {
     "name": "stdout",
     "output_type": "stream",
     "text": [
      "test_acc: 0.753\n",
      "\n",
      "Epoch: 48\n"
     ]
    },
    {
     "name": "stderr",
     "output_type": "stream",
     "text": [
      "Epoch 48: 100%|██████████| 391/391 [02:20<00:00,  2.78it/s, acc=0.922, xentropy=0.277]\n",
      "Epoch 49:   0%|          | 0/391 [00:00<?, ?it/s]"
     ]
    },
    {
     "name": "stdout",
     "output_type": "stream",
     "text": [
      "test_acc: 0.752\n",
      "\n",
      "Epoch: 49\n"
     ]
    },
    {
     "name": "stderr",
     "output_type": "stream",
     "text": [
      "Epoch 49: 100%|██████████| 391/391 [02:20<00:00,  2.78it/s, acc=0.922, xentropy=0.275]\n",
      "Epoch 50:   0%|          | 0/391 [00:00<?, ?it/s]"
     ]
    },
    {
     "name": "stdout",
     "output_type": "stream",
     "text": [
      "test_acc: 0.754\n",
      "\n",
      "Epoch: 50\n"
     ]
    },
    {
     "name": "stderr",
     "output_type": "stream",
     "text": [
      "Epoch 50: 100%|██████████| 391/391 [02:20<00:00,  2.78it/s, acc=0.927, xentropy=0.259]\n"
     ]
    },
    {
     "name": "stdout",
     "output_type": "stream",
     "text": [
      "test_acc: 0.754\n"
     ]
    }
   ],
   "source": [
    "# 定义参数\n",
    "args = {\"method\": 'cutout',  # ['baseline', 'cutmix', 'cutout', 'mixup']\n",
    "      \"dataset\": 'cifar100',  # ['cifar10', 'cifar100']\n",
    "      \"model\": 'resnet18',  # ['resnet18]\n",
    "      \"batch_size\" : 128,  # [32, 64, 128] 固定为128进行训练\n",
    "      \"epochs\" : 50,     # 固定为50进行训练\n",
    "      \"learning_rate\": 0.1, # \n",
    "      \"data_augmentation\": True, # 数据增强，默认为True\n",
    "      \"no_cuda\": False, # 是否使用GPU\n",
    "      \"seed\": 0, \n",
    "      \"n_holes\": 1,\n",
    "      \"length\": 16,\n",
    "      \"alpha\": 0.2,\n",
    "      \"cutmix_prob\": 0.1\n",
    "}\n",
    "\n",
    "if args['method'] == 'cutout':\n",
    "    train = train_cutout\n",
    "elif args['method'] == 'mixup':\n",
    "    train = train_mixup\n",
    "elif args['method'] == 'cutmix':\n",
    "    train = train_cutmix\n",
    "elif args['method'] == 'baseline':\n",
    "    train = train_cutout\n",
    "else:\n",
    "    raise Exception('unknown method: {}'.format(args['method']))\n",
    "\n",
    "args['cuda'] = not args['no_cuda'] and torch.cuda.is_available()\n",
    "cudnn.benchmark = True\n",
    "\n",
    "torch.manual_seed(args['seed'])\n",
    "if args['cuda']:\n",
    "    torch.cuda.manual_seed(args['seed'])\n",
    "\n",
    "# 归一化\n",
    "normalize = transforms.Normalize(mean=[x/255.0 for x in [125.3, 123.0, 113.9]],\n",
    "                  std=[x/255.0 for x in [63.0, 62.1, 66.7]])\n",
    "\n",
    "# 训练集预处理\n",
    "train_transform = transforms.Compose([])\n",
    "if args['data_augmentation']:\n",
    "    train_transform.transforms.append(transforms.RandomCrop(32, padding=4))\n",
    "    train_transform.transforms.append(transforms.RandomHorizontalFlip())\n",
    "train_transform.transforms.append(transforms.ToTensor())\n",
    "train_transform.transforms.append(normalize)\n",
    "if args['method'] == 'cutout':\n",
    "    train_transform.transforms.append(Cutout(n_holes=args['n_holes'], length=args['length']))\n",
    "\n",
    "# 测试集预处理\n",
    "test_transform = transforms.Compose([\n",
    "    transforms.ToTensor(),\n",
    "    normalize])\n",
    "\n",
    "# 数据集选择\n",
    "if args['dataset'] == 'cifar10':\n",
    "    num_classes = 10\n",
    "    train_dataset = datasets.CIFAR10(root='./data/',\n",
    "                    train=True,\n",
    "                    transform=train_transform,\n",
    "                    download=True)\n",
    "    test_dataset = datasets.CIFAR10(root='./data/',\n",
    "                   train=False,\n",
    "                   transform=test_transform,\n",
    "                   download=True)\n",
    "elif args['dataset'] == 'cifar100':\n",
    "    num_classes = 100\n",
    "    train_dataset = datasets.CIFAR100(root='./data/',\n",
    "                    train=True,\n",
    "                    transform=train_transform,\n",
    "                    download=True)\n",
    "    test_dataset = datasets.CIFAR100(root='./data/',\n",
    "                   train=False,\n",
    "                   transform=test_transform,\n",
    "                   download=True)\n",
    "else:\n",
    "    raise Exception('unknown dataset: {}'.format(args['dataset']))\n",
    "\n",
    "# 定义Data Loader\n",
    "train_loader = torch.utils.data.DataLoader(dataset=train_dataset,\n",
    "                       batch_size=args['batch_size'],\n",
    "                       shuffle=True,\n",
    "                       pin_memory=True)\n",
    "\n",
    "test_loader = torch.utils.data.DataLoader(dataset=test_dataset,\n",
    "                      batch_size=args['batch_size'],\n",
    "                      shuffle=False,\n",
    "                      pin_memory=True)\n",
    "\n",
    "# 选择训练模型\n",
    "if args['model'] == 'resnet18':\n",
    "    model = ResNet18(num_classes=num_classes)\n",
    "else:\n",
    "    raise Exception('unknown model: {}'.format(args['model']))\n",
    "\n",
    "if args['cuda']:\n",
    "    model = model.cuda()\n",
    "\n",
    "# 定义损失函数\n",
    "if args['cuda']:\n",
    "    criterion = nn.CrossEntropyLoss().cuda()\n",
    "else:\n",
    "    criterion = nn.CrossEntropyLoss()\n",
    "\n",
    "# 定义优化器\n",
    "optimizer = torch.optim.SGD(model.parameters(), lr=args['learning_rate'],\n",
    "                momentum=0.9, nesterov=True, weight_decay=5e-4)\n",
    "\n",
    "# 定义学习率优化\n",
    "scheduler = MultiStepLR(optimizer, milestones=[20, 40], gamma=0.2)\n",
    "\n",
    "# 获取存储名\n",
    "test_id = args['dataset'] + '_' + args['model'] + '_' + args['method']\n",
    "if not args['data_augmentation']:\n",
    "    test_id += '_noaugment'\n",
    "\n",
    "# 数据储存到csv文件\n",
    "try:\n",
    "    os.makedirs('./runs')\n",
    "except:\n",
    "    pass\n",
    "filename = './runs/' + test_id + '.csv'\n",
    "csv_logger = CSVLogger(args=args, fieldnames=['epoch', 'train_loss', 'train_acc', 'test_acc']\n",
    "                       , filename=filename)\n",
    "\n",
    "# 训练模型过程\n",
    "writer = SummaryWriter('./runs/train_cutout') # 使用tensorboard进行可视化\n",
    "for epoch in range(1, args['epochs'] + 1):\n",
    "    train_loss, train_acc = train(epoch)\n",
    "    test_acc = test()\n",
    "    tqdm.write('test_acc: %.3f' % test_acc)\n",
    "    scheduler.step()\n",
    "    row = {'epoch': str(epoch), 'train_loss':str(train_loss), 'train_acc': str(train_acc), 'test_acc': str(test_acc)}\n",
    "    csv_logger.writerow(row)\n",
    "    writer.add_scalar('train_loss', train_loss, global_step=epoch)\n",
    "    writer.add_scalar('train_acc', train_acc, global_step=epoch)\n",
    "    writer.add_scalar('test_acc', test_acc, global_step=epoch)\n",
    "writer.close()\n",
    "\n",
    "# 保存模型\n",
    "try:\n",
    "    os.makedirs('./checkpoints')\n",
    "except:\n",
    "    pass\n",
    "\n",
    "torch.save(model.state_dict(), './checkpoints/' + test_id + '.pth')\n",
    "\n",
    "csv_logger.close()"
   ]
  },
  {
   "cell_type": "markdown",
   "metadata": {},
   "source": [
    "mixup方法"
   ]
  },
  {
   "cell_type": "code",
   "execution_count": 9,
   "metadata": {},
   "outputs": [
    {
     "name": "stdout",
     "output_type": "stream",
     "text": [
      "Files already downloaded and verified\n",
      "Files already downloaded and verified\n"
     ]
    },
    {
     "name": "stderr",
     "output_type": "stream",
     "text": [
      "Epoch 1:   0%|          | 0/391 [00:00<?, ?it/s]"
     ]
    },
    {
     "name": "stdout",
     "output_type": "stream",
     "text": [
      "\n",
      "Epoch: 1\n"
     ]
    },
    {
     "name": "stderr",
     "output_type": "stream",
     "text": [
      "Epoch 1: 100%|██████████| 391/391 [01:52<00:00,  3.46it/s, acc=0.098, xentropy=3.998]\n",
      "Epoch 2:   0%|          | 1/391 [00:00<01:04,  6.07it/s, acc=0.156, xentropy=3.518]"
     ]
    },
    {
     "name": "stdout",
     "output_type": "stream",
     "text": [
      "test_acc: 0.164\n",
      "\n",
      "Epoch: 2\n"
     ]
    },
    {
     "name": "stderr",
     "output_type": "stream",
     "text": [
      "Epoch 2: 100%|██████████| 391/391 [01:47<00:00,  3.65it/s, acc=0.195, xentropy=3.414]\n",
      "Epoch 3:   0%|          | 1/391 [00:00<01:07,  5.75it/s, acc=0.234, xentropy=2.916]"
     ]
    },
    {
     "name": "stdout",
     "output_type": "stream",
     "text": [
      "test_acc: 0.252\n",
      "\n",
      "Epoch: 3\n"
     ]
    },
    {
     "name": "stderr",
     "output_type": "stream",
     "text": [
      "Epoch 3: 100%|██████████| 391/391 [01:47<00:00,  3.65it/s, acc=0.275, xentropy=3.023]\n",
      "Epoch 4:   0%|          | 1/391 [00:00<01:05,  5.95it/s, acc=0.382, xentropy=2.315]"
     ]
    },
    {
     "name": "stdout",
     "output_type": "stream",
     "text": [
      "test_acc: 0.329\n",
      "\n",
      "Epoch: 4\n"
     ]
    },
    {
     "name": "stderr",
     "output_type": "stream",
     "text": [
      "Epoch 4: 100%|██████████| 391/391 [01:47<00:00,  3.65it/s, acc=0.351, xentropy=2.690]\n",
      "Epoch 5:   0%|          | 1/391 [00:00<01:02,  6.26it/s, acc=0.289, xentropy=3.395]"
     ]
    },
    {
     "name": "stdout",
     "output_type": "stream",
     "text": [
      "test_acc: 0.386\n",
      "\n",
      "Epoch: 5\n"
     ]
    },
    {
     "name": "stderr",
     "output_type": "stream",
     "text": [
      "Epoch 5: 100%|██████████| 391/391 [01:47<00:00,  3.65it/s, acc=0.397, xentropy=2.488]\n",
      "Epoch 6:   0%|          | 1/391 [00:00<01:05,  5.94it/s, acc=0.539, xentropy=1.784]"
     ]
    },
    {
     "name": "stdout",
     "output_type": "stream",
     "text": [
      "test_acc: 0.464\n",
      "\n",
      "Epoch: 6\n"
     ]
    },
    {
     "name": "stderr",
     "output_type": "stream",
     "text": [
      "Epoch 6: 100%|██████████| 391/391 [01:47<00:00,  3.65it/s, acc=0.429, xentropy=2.381]\n",
      "Epoch 7:   0%|          | 1/391 [00:00<01:06,  5.84it/s, acc=0.211, xentropy=3.680]"
     ]
    },
    {
     "name": "stdout",
     "output_type": "stream",
     "text": [
      "test_acc: 0.484\n",
      "\n",
      "Epoch: 7\n"
     ]
    },
    {
     "name": "stderr",
     "output_type": "stream",
     "text": [
      "Epoch 7: 100%|██████████| 391/391 [01:47<00:00,  3.65it/s, acc=0.466, xentropy=2.219]\n",
      "Epoch 8:   0%|          | 1/391 [00:00<01:01,  6.34it/s, acc=0.188, xentropy=3.591]"
     ]
    },
    {
     "name": "stdout",
     "output_type": "stream",
     "text": [
      "test_acc: 0.502\n",
      "\n",
      "Epoch: 8\n"
     ]
    },
    {
     "name": "stderr",
     "output_type": "stream",
     "text": [
      "Epoch 8: 100%|██████████| 391/391 [01:47<00:00,  3.65it/s, acc=0.484, xentropy=2.144]\n",
      "Epoch 9:   0%|          | 1/391 [00:00<01:06,  5.83it/s, acc=0.576, xentropy=1.682]"
     ]
    },
    {
     "name": "stdout",
     "output_type": "stream",
     "text": [
      "test_acc: 0.492\n",
      "\n",
      "Epoch: 9\n"
     ]
    },
    {
     "name": "stderr",
     "output_type": "stream",
     "text": [
      "Epoch 9: 100%|██████████| 391/391 [01:47<00:00,  3.65it/s, acc=0.502, xentropy=2.093]\n",
      "Epoch 10:   0%|          | 1/391 [00:00<01:01,  6.31it/s, acc=0.554, xentropy=1.490]"
     ]
    },
    {
     "name": "stdout",
     "output_type": "stream",
     "text": [
      "test_acc: 0.521\n",
      "\n",
      "Epoch: 10\n"
     ]
    },
    {
     "name": "stderr",
     "output_type": "stream",
     "text": [
      "Epoch 10: 100%|██████████| 391/391 [01:47<00:00,  3.65it/s, acc=0.511, xentropy=2.044]\n",
      "Epoch 11:   0%|          | 1/391 [00:00<01:05,  5.95it/s, acc=0.357, xentropy=2.945]"
     ]
    },
    {
     "name": "stdout",
     "output_type": "stream",
     "text": [
      "test_acc: 0.522\n",
      "\n",
      "Epoch: 11\n"
     ]
    },
    {
     "name": "stderr",
     "output_type": "stream",
     "text": [
      "Epoch 11: 100%|██████████| 391/391 [01:47<00:00,  3.65it/s, acc=0.526, xentropy=1.999]\n",
      "Epoch 12:   0%|          | 1/391 [00:00<01:01,  6.29it/s, acc=0.608, xentropy=1.645]"
     ]
    },
    {
     "name": "stdout",
     "output_type": "stream",
     "text": [
      "test_acc: 0.473\n",
      "\n",
      "Epoch: 12\n"
     ]
    },
    {
     "name": "stderr",
     "output_type": "stream",
     "text": [
      "Epoch 12: 100%|██████████| 391/391 [01:47<00:00,  3.65it/s, acc=0.532, xentropy=1.978]\n",
      "Epoch 13:   0%|          | 1/391 [00:00<01:08,  5.67it/s, acc=0.518, xentropy=2.284]"
     ]
    },
    {
     "name": "stdout",
     "output_type": "stream",
     "text": [
      "test_acc: 0.503\n",
      "\n",
      "Epoch: 13\n"
     ]
    },
    {
     "name": "stderr",
     "output_type": "stream",
     "text": [
      "Epoch 13: 100%|██████████| 391/391 [01:47<00:00,  3.65it/s, acc=0.540, xentropy=1.966]\n",
      "Epoch 14:   0%|          | 1/391 [00:00<01:01,  6.32it/s, acc=0.708, xentropy=1.264]"
     ]
    },
    {
     "name": "stdout",
     "output_type": "stream",
     "text": [
      "test_acc: 0.532\n",
      "\n",
      "Epoch: 14\n"
     ]
    },
    {
     "name": "stderr",
     "output_type": "stream",
     "text": [
      "Epoch 14: 100%|██████████| 391/391 [01:47<00:00,  3.65it/s, acc=0.533, xentropy=1.989]\n",
      "Epoch 15:   0%|          | 1/391 [00:00<01:05,  5.91it/s, acc=0.699, xentropy=1.108]"
     ]
    },
    {
     "name": "stdout",
     "output_type": "stream",
     "text": [
      "test_acc: 0.541\n",
      "\n",
      "Epoch: 15\n"
     ]
    },
    {
     "name": "stderr",
     "output_type": "stream",
     "text": [
      "Epoch 15: 100%|██████████| 391/391 [01:47<00:00,  3.65it/s, acc=0.548, xentropy=1.930]\n",
      "Epoch 16:   0%|          | 1/391 [00:00<01:05,  5.95it/s, acc=0.311, xentropy=3.158]"
     ]
    },
    {
     "name": "stdout",
     "output_type": "stream",
     "text": [
      "test_acc: 0.538\n",
      "\n",
      "Epoch: 16\n"
     ]
    },
    {
     "name": "stderr",
     "output_type": "stream",
     "text": [
      "Epoch 16: 100%|██████████| 391/391 [01:47<00:00,  3.65it/s, acc=0.557, xentropy=1.885]\n",
      "Epoch 17:   0%|          | 1/391 [00:00<01:05,  5.95it/s, acc=0.609, xentropy=1.902]"
     ]
    },
    {
     "name": "stdout",
     "output_type": "stream",
     "text": [
      "test_acc: 0.577\n",
      "\n",
      "Epoch: 17\n"
     ]
    },
    {
     "name": "stderr",
     "output_type": "stream",
     "text": [
      "Epoch 17: 100%|██████████| 391/391 [01:47<00:00,  3.65it/s, acc=0.561, xentropy=1.878]\n",
      "Epoch 18:   0%|          | 1/391 [00:00<01:06,  5.89it/s, acc=0.679, xentropy=1.237]"
     ]
    },
    {
     "name": "stdout",
     "output_type": "stream",
     "text": [
      "test_acc: 0.558\n",
      "\n",
      "Epoch: 18\n"
     ]
    },
    {
     "name": "stderr",
     "output_type": "stream",
     "text": [
      "Epoch 18: 100%|██████████| 391/391 [01:47<00:00,  3.65it/s, acc=0.558, xentropy=1.907]\n",
      "Epoch 19:   0%|          | 1/391 [00:00<01:04,  6.03it/s, acc=0.656, xentropy=1.297]"
     ]
    },
    {
     "name": "stdout",
     "output_type": "stream",
     "text": [
      "test_acc: 0.555\n",
      "\n",
      "Epoch: 19\n"
     ]
    },
    {
     "name": "stderr",
     "output_type": "stream",
     "text": [
      "Epoch 19: 100%|██████████| 391/391 [01:47<00:00,  3.65it/s, acc=0.571, xentropy=1.837]\n",
      "Epoch 20:   0%|          | 1/391 [00:00<01:02,  6.24it/s, acc=0.740, xentropy=1.215]"
     ]
    },
    {
     "name": "stdout",
     "output_type": "stream",
     "text": [
      "test_acc: 0.608\n",
      "\n",
      "Epoch: 20\n"
     ]
    },
    {
     "name": "stderr",
     "output_type": "stream",
     "text": [
      "Epoch 20: 100%|██████████| 391/391 [01:47<00:00,  3.65it/s, acc=0.565, xentropy=1.862]\n",
      "Epoch 21:   0%|          | 1/391 [00:00<01:05,  5.91it/s, acc=0.694, xentropy=1.094]"
     ]
    },
    {
     "name": "stdout",
     "output_type": "stream",
     "text": [
      "test_acc: 0.579\n",
      "\n",
      "Epoch: 21\n"
     ]
    },
    {
     "name": "stderr",
     "output_type": "stream",
     "text": [
      "Epoch 21: 100%|██████████| 391/391 [01:47<00:00,  3.65it/s, acc=0.681, xentropy=1.439]\n",
      "Epoch 22:   0%|          | 1/391 [00:00<01:02,  6.27it/s, acc=0.830, xentropy=0.809]"
     ]
    },
    {
     "name": "stdout",
     "output_type": "stream",
     "text": [
      "test_acc: 0.711\n",
      "\n",
      "Epoch: 22\n"
     ]
    },
    {
     "name": "stderr",
     "output_type": "stream",
     "text": [
      "Epoch 22: 100%|██████████| 391/391 [01:47<00:00,  3.65it/s, acc=0.696, xentropy=1.391]\n",
      "Epoch 23:   0%|          | 1/391 [00:00<01:06,  5.89it/s, acc=0.456, xentropy=2.934]"
     ]
    },
    {
     "name": "stdout",
     "output_type": "stream",
     "text": [
      "test_acc: 0.720\n",
      "\n",
      "Epoch: 23\n"
     ]
    },
    {
     "name": "stderr",
     "output_type": "stream",
     "text": [
      "Epoch 23: 100%|██████████| 391/391 [01:47<00:00,  3.65it/s, acc=0.710, xentropy=1.342]\n",
      "Epoch 24:   0%|          | 1/391 [00:00<01:06,  5.86it/s, acc=0.820, xentropy=0.714]"
     ]
    },
    {
     "name": "stdout",
     "output_type": "stream",
     "text": [
      "test_acc: 0.710\n",
      "\n",
      "Epoch: 24\n"
     ]
    },
    {
     "name": "stderr",
     "output_type": "stream",
     "text": [
      "Epoch 24: 100%|██████████| 391/391 [01:47<00:00,  3.65it/s, acc=0.726, xentropy=1.260]\n",
      "Epoch 25:   0%|          | 1/391 [00:00<01:01,  6.30it/s, acc=0.867, xentropy=0.460]"
     ]
    },
    {
     "name": "stdout",
     "output_type": "stream",
     "text": [
      "test_acc: 0.723\n",
      "\n",
      "Epoch: 25\n"
     ]
    },
    {
     "name": "stderr",
     "output_type": "stream",
     "text": [
      "Epoch 25: 100%|██████████| 391/391 [01:47<00:00,  3.65it/s, acc=0.731, xentropy=1.237]\n",
      "Epoch 26:   0%|          | 1/391 [00:00<01:06,  5.84it/s, acc=0.913, xentropy=0.458]"
     ]
    },
    {
     "name": "stdout",
     "output_type": "stream",
     "text": [
      "test_acc: 0.716\n",
      "\n",
      "Epoch: 26\n"
     ]
    },
    {
     "name": "stderr",
     "output_type": "stream",
     "text": [
      "Epoch 26: 100%|██████████| 391/391 [01:47<00:00,  3.65it/s, acc=0.751, xentropy=1.149]\n",
      "Epoch 27:   0%|          | 1/391 [00:00<01:05,  5.97it/s, acc=0.914, xentropy=0.375]"
     ]
    },
    {
     "name": "stdout",
     "output_type": "stream",
     "text": [
      "test_acc: 0.716\n",
      "\n",
      "Epoch: 27\n"
     ]
    },
    {
     "name": "stderr",
     "output_type": "stream",
     "text": [
      "Epoch 27: 100%|██████████| 391/391 [01:47<00:00,  3.65it/s, acc=0.733, xentropy=1.231]\n",
      "Epoch 28:   0%|          | 1/391 [00:00<01:06,  5.86it/s, acc=0.875, xentropy=0.456]"
     ]
    },
    {
     "name": "stdout",
     "output_type": "stream",
     "text": [
      "test_acc: 0.707\n",
      "\n",
      "Epoch: 28\n"
     ]
    },
    {
     "name": "stderr",
     "output_type": "stream",
     "text": [
      "Epoch 28: 100%|██████████| 391/391 [01:47<00:00,  3.65it/s, acc=0.734, xentropy=1.251]\n",
      "Epoch 29:   0%|          | 1/391 [00:00<01:02,  6.26it/s, acc=0.541, xentropy=2.426]"
     ]
    },
    {
     "name": "stdout",
     "output_type": "stream",
     "text": [
      "test_acc: 0.702\n",
      "\n",
      "Epoch: 29\n"
     ]
    },
    {
     "name": "stderr",
     "output_type": "stream",
     "text": [
      "Epoch 29: 100%|██████████| 391/391 [01:47<00:00,  3.65it/s, acc=0.748, xentropy=1.197]\n",
      "Epoch 30:   0%|          | 1/391 [00:00<01:04,  6.03it/s, acc=0.889, xentropy=0.432]"
     ]
    },
    {
     "name": "stdout",
     "output_type": "stream",
     "text": [
      "test_acc: 0.708\n",
      "\n",
      "Epoch: 30\n"
     ]
    },
    {
     "name": "stderr",
     "output_type": "stream",
     "text": [
      "Epoch 30: 100%|██████████| 391/391 [01:47<00:00,  3.65it/s, acc=0.740, xentropy=1.225]\n",
      "Epoch 31:   0%|          | 1/391 [00:00<01:02,  6.27it/s, acc=0.796, xentropy=1.156]"
     ]
    },
    {
     "name": "stdout",
     "output_type": "stream",
     "text": [
      "test_acc: 0.708\n",
      "\n",
      "Epoch: 31\n"
     ]
    },
    {
     "name": "stderr",
     "output_type": "stream",
     "text": [
      "Epoch 31: 100%|██████████| 391/391 [01:47<00:00,  3.65it/s, acc=0.743, xentropy=1.214]\n",
      "Epoch 32:   0%|          | 1/391 [00:00<01:03,  6.15it/s, acc=0.914, xentropy=0.320]"
     ]
    },
    {
     "name": "stdout",
     "output_type": "stream",
     "text": [
      "test_acc: 0.686\n",
      "\n",
      "Epoch: 32\n"
     ]
    },
    {
     "name": "stderr",
     "output_type": "stream",
     "text": [
      "Epoch 32: 100%|██████████| 391/391 [01:47<00:00,  3.65it/s, acc=0.756, xentropy=1.140]\n",
      "Epoch 33:   0%|          | 1/391 [00:00<01:02,  6.22it/s, acc=0.905, xentropy=0.537]"
     ]
    },
    {
     "name": "stdout",
     "output_type": "stream",
     "text": [
      "test_acc: 0.709\n",
      "\n",
      "Epoch: 33\n"
     ]
    },
    {
     "name": "stderr",
     "output_type": "stream",
     "text": [
      "Epoch 33: 100%|██████████| 391/391 [01:47<00:00,  3.65it/s, acc=0.744, xentropy=1.215]\n",
      "Epoch 34:   0%|          | 1/391 [00:00<01:09,  5.65it/s, acc=0.305, xentropy=3.131]"
     ]
    },
    {
     "name": "stdout",
     "output_type": "stream",
     "text": [
      "test_acc: 0.698\n",
      "\n",
      "Epoch: 34\n"
     ]
    },
    {
     "name": "stderr",
     "output_type": "stream",
     "text": [
      "Epoch 34: 100%|██████████| 391/391 [01:47<00:00,  3.65it/s, acc=0.763, xentropy=1.137]\n",
      "Epoch 35:   0%|          | 1/391 [00:00<01:03,  6.18it/s, acc=0.299, xentropy=3.073]"
     ]
    },
    {
     "name": "stdout",
     "output_type": "stream",
     "text": [
      "test_acc: 0.705\n",
      "\n",
      "Epoch: 35\n"
     ]
    },
    {
     "name": "stderr",
     "output_type": "stream",
     "text": [
      "Epoch 35: 100%|██████████| 391/391 [01:47<00:00,  3.65it/s, acc=0.759, xentropy=1.125]\n",
      "Epoch 36:   0%|          | 1/391 [00:00<01:07,  5.81it/s, acc=0.898, xentropy=0.555]"
     ]
    },
    {
     "name": "stdout",
     "output_type": "stream",
     "text": [
      "test_acc: 0.694\n",
      "\n",
      "Epoch: 36\n"
     ]
    },
    {
     "name": "stderr",
     "output_type": "stream",
     "text": [
      "Epoch 36: 100%|██████████| 391/391 [01:47<00:00,  3.65it/s, acc=0.757, xentropy=1.172]\n",
      "Epoch 37:   0%|          | 1/391 [00:00<01:02,  6.26it/s, acc=0.922, xentropy=0.353]"
     ]
    },
    {
     "name": "stdout",
     "output_type": "stream",
     "text": [
      "test_acc: 0.693\n",
      "\n",
      "Epoch: 37\n"
     ]
    },
    {
     "name": "stderr",
     "output_type": "stream",
     "text": [
      "Epoch 37: 100%|██████████| 391/391 [01:47<00:00,  3.65it/s, acc=0.780, xentropy=1.052]\n",
      "Epoch 38:   0%|          | 1/391 [00:00<01:01,  6.32it/s, acc=0.659, xentropy=2.026]"
     ]
    },
    {
     "name": "stdout",
     "output_type": "stream",
     "text": [
      "test_acc: 0.686\n",
      "\n",
      "Epoch: 38\n"
     ]
    },
    {
     "name": "stderr",
     "output_type": "stream",
     "text": [
      "Epoch 38: 100%|██████████| 391/391 [01:47<00:00,  3.65it/s, acc=0.757, xentropy=1.180]\n",
      "Epoch 39:   0%|          | 1/391 [00:00<01:02,  6.26it/s, acc=0.897, xentropy=0.630]"
     ]
    },
    {
     "name": "stdout",
     "output_type": "stream",
     "text": [
      "test_acc: 0.695\n",
      "\n",
      "Epoch: 39\n"
     ]
    },
    {
     "name": "stderr",
     "output_type": "stream",
     "text": [
      "Epoch 39: 100%|██████████| 391/391 [01:47<00:00,  3.65it/s, acc=0.761, xentropy=1.165]\n",
      "Epoch 40:   0%|          | 1/391 [00:00<01:02,  6.26it/s, acc=0.241, xentropy=3.231]"
     ]
    },
    {
     "name": "stdout",
     "output_type": "stream",
     "text": [
      "test_acc: 0.696\n",
      "\n",
      "Epoch: 40\n"
     ]
    },
    {
     "name": "stderr",
     "output_type": "stream",
     "text": [
      "Epoch 40: 100%|██████████| 391/391 [01:47<00:00,  3.65it/s, acc=0.772, xentropy=1.105]\n",
      "Epoch 41:   0%|          | 1/391 [00:00<01:02,  6.26it/s, acc=0.710, xentropy=1.682]"
     ]
    },
    {
     "name": "stdout",
     "output_type": "stream",
     "text": [
      "test_acc: 0.696\n",
      "\n",
      "Epoch: 41\n"
     ]
    },
    {
     "name": "stderr",
     "output_type": "stream",
     "text": [
      "Epoch 41: 100%|██████████| 391/391 [01:47<00:00,  3.65it/s, acc=0.823, xentropy=0.954]\n",
      "Epoch 42:   0%|          | 1/391 [00:00<01:02,  6.22it/s, acc=0.951, xentropy=0.325]"
     ]
    },
    {
     "name": "stdout",
     "output_type": "stream",
     "text": [
      "test_acc: 0.755\n",
      "\n",
      "Epoch: 42\n"
     ]
    },
    {
     "name": "stderr",
     "output_type": "stream",
     "text": [
      "Epoch 42: 100%|██████████| 391/391 [01:47<00:00,  3.65it/s, acc=0.843, xentropy=0.867]\n",
      "Epoch 43:   0%|          | 1/391 [00:00<01:02,  6.27it/s, acc=0.956, xentropy=0.188]"
     ]
    },
    {
     "name": "stdout",
     "output_type": "stream",
     "text": [
      "test_acc: 0.752\n",
      "\n",
      "Epoch: 43\n"
     ]
    },
    {
     "name": "stderr",
     "output_type": "stream",
     "text": [
      "Epoch 43: 100%|██████████| 391/391 [01:47<00:00,  3.65it/s, acc=0.843, xentropy=0.893]\n",
      "Epoch 44:   0%|          | 1/391 [00:00<01:05,  5.93it/s, acc=0.992, xentropy=0.086]"
     ]
    },
    {
     "name": "stdout",
     "output_type": "stream",
     "text": [
      "test_acc: 0.759\n",
      "\n",
      "Epoch: 44\n"
     ]
    },
    {
     "name": "stderr",
     "output_type": "stream",
     "text": [
      "Epoch 44: 100%|██████████| 391/391 [01:47<00:00,  3.65it/s, acc=0.846, xentropy=0.882]\n",
      "Epoch 45:   0%|          | 1/391 [00:00<01:06,  5.89it/s, acc=0.976, xentropy=0.103]"
     ]
    },
    {
     "name": "stdout",
     "output_type": "stream",
     "text": [
      "test_acc: 0.758\n",
      "\n",
      "Epoch: 45\n"
     ]
    },
    {
     "name": "stderr",
     "output_type": "stream",
     "text": [
      "Epoch 45: 100%|██████████| 391/391 [01:47<00:00,  3.65it/s, acc=0.856, xentropy=0.837]\n",
      "Epoch 46:   0%|          | 1/391 [00:00<01:05,  5.97it/s, acc=0.924, xentropy=0.696]"
     ]
    },
    {
     "name": "stdout",
     "output_type": "stream",
     "text": [
      "test_acc: 0.759\n",
      "\n",
      "Epoch: 46\n"
     ]
    },
    {
     "name": "stderr",
     "output_type": "stream",
     "text": [
      "Epoch 46: 100%|██████████| 391/391 [01:47<00:00,  3.65it/s, acc=0.850, xentropy=0.873]\n",
      "Epoch 47:   0%|          | 1/391 [00:00<01:06,  5.82it/s, acc=0.462, xentropy=2.764]"
     ]
    },
    {
     "name": "stdout",
     "output_type": "stream",
     "text": [
      "test_acc: 0.761\n",
      "\n",
      "Epoch: 47\n"
     ]
    },
    {
     "name": "stderr",
     "output_type": "stream",
     "text": [
      "Epoch 47: 100%|██████████| 391/391 [01:47<00:00,  3.65it/s, acc=0.848, xentropy=0.874]\n",
      "Epoch 48:   0%|          | 1/391 [00:00<01:06,  5.86it/s, acc=0.992, xentropy=0.062]"
     ]
    },
    {
     "name": "stdout",
     "output_type": "stream",
     "text": [
      "test_acc: 0.762\n",
      "\n",
      "Epoch: 48\n"
     ]
    },
    {
     "name": "stderr",
     "output_type": "stream",
     "text": [
      "Epoch 48: 100%|██████████| 391/391 [01:47<00:00,  3.65it/s, acc=0.858, xentropy=0.821]\n",
      "Epoch 49:   0%|          | 1/391 [00:00<01:06,  5.82it/s, acc=0.990, xentropy=0.082]"
     ]
    },
    {
     "name": "stdout",
     "output_type": "stream",
     "text": [
      "test_acc: 0.762\n",
      "\n",
      "Epoch: 49\n"
     ]
    },
    {
     "name": "stderr",
     "output_type": "stream",
     "text": [
      "Epoch 49: 100%|██████████| 391/391 [01:47<00:00,  3.65it/s, acc=0.870, xentropy=0.768]\n",
      "Epoch 50:   0%|          | 1/391 [00:00<01:01,  6.29it/s, acc=0.989, xentropy=0.160]"
     ]
    },
    {
     "name": "stdout",
     "output_type": "stream",
     "text": [
      "test_acc: 0.759\n",
      "\n",
      "Epoch: 50\n"
     ]
    },
    {
     "name": "stderr",
     "output_type": "stream",
     "text": [
      "Epoch 50: 100%|██████████| 391/391 [01:47<00:00,  3.65it/s, acc=0.858, xentropy=0.822]\n"
     ]
    },
    {
     "name": "stdout",
     "output_type": "stream",
     "text": [
      "test_acc: 0.762\n"
     ]
    }
   ],
   "source": [
    "# 定义参数\n",
    "args = {\"method\": 'mixup',  # ['baseline', 'cutmix', 'cutout', 'mixup']\n",
    "      \"dataset\": 'cifar100',  # ['cifar10', 'cifar100']\n",
    "      \"model\": 'resnet18',  # ['resnet18]\n",
    "      \"batch_size\" : 128,  # [32, 64, 128] 固定为128进行训练\n",
    "      \"epochs\" : 50,     # 固定为50进行训练\n",
    "      \"learning_rate\": 0.1, # \n",
    "      \"data_augmentation\": True, # 数据增强，默认为True\n",
    "      \"no_cuda\": False, # 是否使用GPU\n",
    "      \"seed\": 0, \n",
    "      \"n_holes\": 1,\n",
    "      \"length\": 16,\n",
    "      \"alpha\": 0.2,\n",
    "      \"cutmix_prob\": 0.1\n",
    "}\n",
    "\n",
    "if args['method'] == 'cutout':\n",
    "    train = train_cutout\n",
    "elif args['method'] == 'mixup':\n",
    "    train = train_mixup\n",
    "elif args['method'] == 'cutmix':\n",
    "    train = train_cutmix\n",
    "elif args['method'] == 'baseline':\n",
    "    train = train_cutout\n",
    "else:\n",
    "    raise Exception('unknown method: {}'.format(args['method']))\n",
    "\n",
    "args['cuda'] = not args['no_cuda'] and torch.cuda.is_available()\n",
    "cudnn.benchmark = True\n",
    "\n",
    "torch.manual_seed(args['seed'])\n",
    "if args['cuda']:\n",
    "    torch.cuda.manual_seed(args['seed'])\n",
    "\n",
    "# 归一化\n",
    "normalize = transforms.Normalize(mean=[x/255.0 for x in [125.3, 123.0, 113.9]],\n",
    "                  std=[x/255.0 for x in [63.0, 62.1, 66.7]])\n",
    "\n",
    "# 训练集预处理\n",
    "train_transform = transforms.Compose([])\n",
    "if args['data_augmentation']:\n",
    "    train_transform.transforms.append(transforms.RandomCrop(32, padding=4))\n",
    "    train_transform.transforms.append(transforms.RandomHorizontalFlip())\n",
    "train_transform.transforms.append(transforms.ToTensor())\n",
    "train_transform.transforms.append(normalize)\n",
    "if args['method'] == 'cutout':\n",
    "    train_transform.transforms.append(Cutout(n_holes=args['n_holes'], length=args['length']))\n",
    "\n",
    "# 测试集预处理\n",
    "test_transform = transforms.Compose([\n",
    "    transforms.ToTensor(),\n",
    "    normalize])\n",
    "\n",
    "# 数据集选择\n",
    "if args['dataset'] == 'cifar10':\n",
    "    num_classes = 10\n",
    "    train_dataset = datasets.CIFAR10(root='./data/',\n",
    "                    train=True,\n",
    "                    transform=train_transform,\n",
    "                    download=True)\n",
    "    test_dataset = datasets.CIFAR10(root='./data/',\n",
    "                   train=False,\n",
    "                   transform=test_transform,\n",
    "                   download=True)\n",
    "elif args['dataset'] == 'cifar100':\n",
    "    num_classes = 100\n",
    "    train_dataset = datasets.CIFAR100(root='./data/',\n",
    "                    train=True,\n",
    "                    transform=train_transform,\n",
    "                    download=True)\n",
    "    test_dataset = datasets.CIFAR100(root='./data/',\n",
    "                   train=False,\n",
    "                   transform=test_transform,\n",
    "                   download=True)\n",
    "else:\n",
    "    raise Exception('unknown dataset: {}'.format(args['dataset']))\n",
    "\n",
    "# 定义Data Loader\n",
    "train_loader = torch.utils.data.DataLoader(dataset=train_dataset,\n",
    "                       batch_size=args['batch_size'],\n",
    "                       shuffle=True,\n",
    "                       pin_memory=True)\n",
    "\n",
    "test_loader = torch.utils.data.DataLoader(dataset=test_dataset,\n",
    "                      batch_size=args['batch_size'],\n",
    "                      shuffle=False,\n",
    "                      pin_memory=True)\n",
    "\n",
    "# 选择训练模型\n",
    "if args['model'] == 'resnet18':\n",
    "    model = ResNet18(num_classes=num_classes)\n",
    "else:\n",
    "    raise Exception('unknown model: {}'.format(args['model']))\n",
    "\n",
    "if args['cuda']:\n",
    "    model = model.cuda()\n",
    "\n",
    "# 定义损失函数\n",
    "if args['cuda']:\n",
    "    criterion = nn.CrossEntropyLoss().cuda()\n",
    "else:\n",
    "    criterion = nn.CrossEntropyLoss()\n",
    "\n",
    "# 定义优化器\n",
    "optimizer = torch.optim.SGD(model.parameters(), lr=args['learning_rate'],\n",
    "                momentum=0.9, nesterov=True, weight_decay=5e-4)\n",
    "\n",
    "# 定义学习率优化\n",
    "scheduler = MultiStepLR(optimizer, milestones=[20, 40], gamma=0.2)\n",
    "\n",
    "# 获取存储名\n",
    "test_id = args['dataset'] + '_' + args['model'] + '_' + args['method']\n",
    "if not args['data_augmentation']:\n",
    "    test_id += '_noaugment'\n",
    "\n",
    "# 数据储存到csv文件\n",
    "try:\n",
    "    os.makedirs('./runs')\n",
    "except:\n",
    "    pass\n",
    "filename = './runs/' + test_id + '.csv'\n",
    "csv_logger = CSVLogger(args=args, fieldnames=['epoch', 'train_loss', 'train_acc', 'test_acc']\n",
    "                       , filename=filename)\n",
    "\n",
    "# 训练模型过程\n",
    "writer = SummaryWriter('./runs/train_mixup') # 使用tensorboard进行可视化\n",
    "for epoch in range(1, args['epochs'] + 1):\n",
    "    train_loss, train_acc = train(epoch)\n",
    "    test_acc = test()\n",
    "    tqdm.write('test_acc: %.3f' % test_acc)\n",
    "    scheduler.step()\n",
    "    row = {'epoch': str(epoch), 'train_loss':str(train_loss), 'train_acc': str(train_acc), 'test_acc': str(test_acc)}\n",
    "    csv_logger.writerow(row)\n",
    "    writer.add_scalar('train_loss', train_loss, global_step=epoch)\n",
    "    writer.add_scalar('train_acc', train_acc, global_step=epoch)\n",
    "    writer.add_scalar('test_acc', test_acc, global_step=epoch)\n",
    "writer.close()\n",
    "\n",
    "# 保存模型\n",
    "try:\n",
    "    os.makedirs('./checkpoints')\n",
    "except:\n",
    "    pass\n",
    "\n",
    "torch.save(model.state_dict(), './checkpoints/' + test_id + '.pth')\n",
    "\n",
    "csv_logger.close()"
   ]
  },
  {
   "cell_type": "markdown",
   "metadata": {},
   "source": [
    "**第五部分：进行图片显示**"
   ]
  },
  {
   "cell_type": "code",
   "execution_count": null,
   "metadata": {},
   "outputs": [],
   "source": [
    "import matplotlib.pyplot as plt\n",
    "import torchvision.utils as utils\n",
    "\n",
    "print(\"获取3张图片\")\n",
    "imgs, labels = next(iter(train_loader))\n",
    "imgs=imgs[0:3]\n",
    "print(imgs.shape)\n",
    "\n",
    "# 经过数据增强后的原图\n",
    "images = utils.make_grid(imgs)\n",
    "images = images.numpy().transpose(1, 2, 0)\n",
    "plt.imshow(images)\n",
    "plt.show()\n",
    "\n",
    "# 经过cutout处理\n",
    "cut=Cutout(n_holes=1, length=16)\n",
    "imgs1=[]\n",
    "for i in range(3):\n",
    "    out=cut(imgs[i])\n",
    "    imgs1.append(out)\n",
    "images = utils.make_grid(imgs1)\n",
    "images = images.numpy().transpose(1, 2, 0)\n",
    "plt.imshow(images)\n",
    "plt.show()\n",
    "\n",
    "# 经过mixup处理\n",
    "lam = np.random.beta(args['alpha'], args['alpha'])\n",
    "batch_size = imgs.size()[0]\n",
    "index = torch.randperm(batch_size)\n",
    "imgs2 = lam * imgs + (1 - lam) * imgs[index, :]\n",
    "images = utils.make_grid(imgs2)\n",
    "images = images.numpy().transpose(1, 2, 0)\n",
    "plt.imshow(images)\n",
    "plt.show()\n",
    "\n",
    "# 经过cutmix处理\n",
    "r = np.random.rand(1)\n",
    "lam = np.random.beta(args['alpha'], args['alpha'])\n",
    "rand_index = torch.randperm(imgs.size()[0])\n",
    "# target_a = targets\n",
    "# target_b = targets[rand_index]\n",
    "bbx1, bby1, bbx2, bby2 = rand_bbox(imgs.size(), lam)\n",
    "imgs[:, :, bbx1:bbx2, bby1:bby2] = imgs[rand_index, :, bbx1:bbx2, bby1:bby2]\n",
    "# 调整lambda以与像素比匹配\n",
    "lam = 1 - ((bbx2 - bbx1) * (bby2 - bby1) / (imgs.size()[-1] * imgs.size()[-2]))\n",
    "# imgs3, y_a, y_b, lam = cutmix.cutmix_data(imgs, labels)\n",
    "images = utils.make_grid(imgs)\n",
    "images = images.numpy().transpose(1, 2, 0)\n",
    "plt.imshow(images)\n",
    "plt.show()"
   ]
  }
 ],
 "metadata": {
  "accelerator": "GPU",
  "colab": {
   "collapsed_sections": [],
   "name": "cifar100-resnet18.ipynb",
   "provenance": []
  },
  "kernelspec": {
   "display_name": "myconda",
   "language": "python",
   "name": "myconda"
  },
  "language_info": {
   "codemirror_mode": {
    "name": "ipython",
    "version": 3
   },
   "file_extension": ".py",
   "mimetype": "text/x-python",
   "name": "python",
   "nbconvert_exporter": "python",
   "pygments_lexer": "ipython3",
   "version": "3.7.9"
  }
 },
 "nbformat": 4,
 "nbformat_minor": 4
}
